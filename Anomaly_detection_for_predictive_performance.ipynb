{
  "nbformat": 4,
  "nbformat_minor": 0,
  "metadata": {
    "colab": {
      "provenance": []
    },
    "kernelspec": {
      "name": "python3",
      "display_name": "Python 3"
    },
    "language_info": {
      "name": "python"
    }
  },
  "cells": [
    {
      "cell_type": "code",
      "source": [
        "import numpy as np\n",
        "import pandas as pd\n",
        "import seaborn as sns\n",
        "import matplotlib.pyplot as plt\n",
        "from sklearn.model_selection import train_test_split, cross_val_score,GridSearchCV, cross_val_predict\n",
        "from sklearn.preprocessing import MinMaxScaler\n",
        "from sklearn.metrics import classification_report, accuracy_score, confusion_matrix, precision_score, recall_score, f1_score, roc_curve, roc_auc_score, precision_recall_curve\n",
        "from sklearn.linear_model import LogisticRegression\n",
        "from sklearn.ensemble import RandomForestClassifier\n",
        "from sklearn.model_selection import KFold, StratifiedKFold\n",
        "# from sklearn.neighbors import LocalOutlierFactor\n",
        "# from sklearn.svm import OneClassSVM\n"
      ],
      "metadata": {
        "id": "Mns1DYzWF3fA"
      },
      "execution_count": null,
      "outputs": []
    },
    {
      "cell_type": "code",
      "source": [
        "from google.colab import drive\n",
        "drive.mount('/content/drive')\n",
        "\n",
        "file_path = '/content/drive/MyDrive/AnomaData.xlsx'"
      ],
      "metadata": {
        "colab": {
          "base_uri": "https://localhost:8080/"
        },
        "id": "xNFhY5KHO_ra",
        "outputId": "5fb8f913-4263-42bf-9b16-31453a5463e0"
      },
      "execution_count": null,
      "outputs": [
        {
          "output_type": "stream",
          "name": "stdout",
          "text": [
            "Drive already mounted at /content/drive; to attempt to forcibly remount, call drive.mount(\"/content/drive\", force_remount=True).\n"
          ]
        }
      ]
    },
    {
      "cell_type": "code",
      "source": [
        "data = pd.read_excel(file_path)\n",
        "data.head()"
      ],
      "metadata": {
        "colab": {
          "base_uri": "https://localhost:8080/",
          "height": 429
        },
        "id": "0SBx-WRcN7C4",
        "outputId": "402f7683-8280-48a6-f81a-14436c0cc791"
      },
      "execution_count": null,
      "outputs": [
        {
          "output_type": "execute_result",
          "data": {
            "text/plain": [
              "                 time  y        x1        x2        x3         x4        x5  \\\n",
              "0 1999-05-01 00:00:00  0  0.376665 -4.596435 -4.095756  13.497687 -0.118830   \n",
              "1 1999-05-01 00:02:00  0  0.475720 -4.542502 -4.018359  16.230659 -0.128733   \n",
              "2 1999-05-01 00:04:00  0  0.363848 -4.681394 -4.353147  14.127997 -0.138636   \n",
              "3 1999-05-01 00:06:00  0  0.301590 -4.758934 -4.023612  13.161566 -0.148142   \n",
              "4 1999-05-01 00:08:00  0  0.265578 -4.749928 -4.333150  15.267340 -0.155314   \n",
              "\n",
              "          x6        x7        x8  ...        x51        x52       x54  \\\n",
              "0 -20.669883  0.000732 -0.061114  ...  29.984624  10.091721 -4.936434   \n",
              "1 -18.758079  0.000732 -0.061114  ...  29.984624  10.095871 -4.937179   \n",
              "2 -17.836632  0.010803 -0.061114  ...  29.984624  10.100265 -4.937924   \n",
              "3 -18.517601  0.002075 -0.061114  ...  29.984624  10.104660 -4.938669   \n",
              "4 -17.505913  0.000732 -0.061114  ...  29.984624  10.109054 -4.939414   \n",
              "\n",
              "         x55        x56       x57       x58       x59       x60  y.1  \n",
              "0 -24.590146  18.515436  3.473400  0.033444  0.953219  0.006076    0  \n",
              "1 -32.413266  22.760065  2.682933  0.033536  1.090502  0.006083    0  \n",
              "2 -34.183774  27.004663  3.537487  0.033629  1.840540  0.006090    0  \n",
              "3 -35.954281  21.672449  3.986095  0.033721  2.554880  0.006097    0  \n",
              "4 -37.724789  21.907251  3.601573  0.033777  1.410494  0.006105    0  \n",
              "\n",
              "[5 rows x 62 columns]"
            ],
            "text/html": [
              "\n",
              "  <div id=\"df-945392ac-4669-4d68-ae12-27cfc1ec0004\" class=\"colab-df-container\">\n",
              "    <div>\n",
              "<style scoped>\n",
              "    .dataframe tbody tr th:only-of-type {\n",
              "        vertical-align: middle;\n",
              "    }\n",
              "\n",
              "    .dataframe tbody tr th {\n",
              "        vertical-align: top;\n",
              "    }\n",
              "\n",
              "    .dataframe thead th {\n",
              "        text-align: right;\n",
              "    }\n",
              "</style>\n",
              "<table border=\"1\" class=\"dataframe\">\n",
              "  <thead>\n",
              "    <tr style=\"text-align: right;\">\n",
              "      <th></th>\n",
              "      <th>time</th>\n",
              "      <th>y</th>\n",
              "      <th>x1</th>\n",
              "      <th>x2</th>\n",
              "      <th>x3</th>\n",
              "      <th>x4</th>\n",
              "      <th>x5</th>\n",
              "      <th>x6</th>\n",
              "      <th>x7</th>\n",
              "      <th>x8</th>\n",
              "      <th>...</th>\n",
              "      <th>x51</th>\n",
              "      <th>x52</th>\n",
              "      <th>x54</th>\n",
              "      <th>x55</th>\n",
              "      <th>x56</th>\n",
              "      <th>x57</th>\n",
              "      <th>x58</th>\n",
              "      <th>x59</th>\n",
              "      <th>x60</th>\n",
              "      <th>y.1</th>\n",
              "    </tr>\n",
              "  </thead>\n",
              "  <tbody>\n",
              "    <tr>\n",
              "      <th>0</th>\n",
              "      <td>1999-05-01 00:00:00</td>\n",
              "      <td>0</td>\n",
              "      <td>0.376665</td>\n",
              "      <td>-4.596435</td>\n",
              "      <td>-4.095756</td>\n",
              "      <td>13.497687</td>\n",
              "      <td>-0.118830</td>\n",
              "      <td>-20.669883</td>\n",
              "      <td>0.000732</td>\n",
              "      <td>-0.061114</td>\n",
              "      <td>...</td>\n",
              "      <td>29.984624</td>\n",
              "      <td>10.091721</td>\n",
              "      <td>-4.936434</td>\n",
              "      <td>-24.590146</td>\n",
              "      <td>18.515436</td>\n",
              "      <td>3.473400</td>\n",
              "      <td>0.033444</td>\n",
              "      <td>0.953219</td>\n",
              "      <td>0.006076</td>\n",
              "      <td>0</td>\n",
              "    </tr>\n",
              "    <tr>\n",
              "      <th>1</th>\n",
              "      <td>1999-05-01 00:02:00</td>\n",
              "      <td>0</td>\n",
              "      <td>0.475720</td>\n",
              "      <td>-4.542502</td>\n",
              "      <td>-4.018359</td>\n",
              "      <td>16.230659</td>\n",
              "      <td>-0.128733</td>\n",
              "      <td>-18.758079</td>\n",
              "      <td>0.000732</td>\n",
              "      <td>-0.061114</td>\n",
              "      <td>...</td>\n",
              "      <td>29.984624</td>\n",
              "      <td>10.095871</td>\n",
              "      <td>-4.937179</td>\n",
              "      <td>-32.413266</td>\n",
              "      <td>22.760065</td>\n",
              "      <td>2.682933</td>\n",
              "      <td>0.033536</td>\n",
              "      <td>1.090502</td>\n",
              "      <td>0.006083</td>\n",
              "      <td>0</td>\n",
              "    </tr>\n",
              "    <tr>\n",
              "      <th>2</th>\n",
              "      <td>1999-05-01 00:04:00</td>\n",
              "      <td>0</td>\n",
              "      <td>0.363848</td>\n",
              "      <td>-4.681394</td>\n",
              "      <td>-4.353147</td>\n",
              "      <td>14.127997</td>\n",
              "      <td>-0.138636</td>\n",
              "      <td>-17.836632</td>\n",
              "      <td>0.010803</td>\n",
              "      <td>-0.061114</td>\n",
              "      <td>...</td>\n",
              "      <td>29.984624</td>\n",
              "      <td>10.100265</td>\n",
              "      <td>-4.937924</td>\n",
              "      <td>-34.183774</td>\n",
              "      <td>27.004663</td>\n",
              "      <td>3.537487</td>\n",
              "      <td>0.033629</td>\n",
              "      <td>1.840540</td>\n",
              "      <td>0.006090</td>\n",
              "      <td>0</td>\n",
              "    </tr>\n",
              "    <tr>\n",
              "      <th>3</th>\n",
              "      <td>1999-05-01 00:06:00</td>\n",
              "      <td>0</td>\n",
              "      <td>0.301590</td>\n",
              "      <td>-4.758934</td>\n",
              "      <td>-4.023612</td>\n",
              "      <td>13.161566</td>\n",
              "      <td>-0.148142</td>\n",
              "      <td>-18.517601</td>\n",
              "      <td>0.002075</td>\n",
              "      <td>-0.061114</td>\n",
              "      <td>...</td>\n",
              "      <td>29.984624</td>\n",
              "      <td>10.104660</td>\n",
              "      <td>-4.938669</td>\n",
              "      <td>-35.954281</td>\n",
              "      <td>21.672449</td>\n",
              "      <td>3.986095</td>\n",
              "      <td>0.033721</td>\n",
              "      <td>2.554880</td>\n",
              "      <td>0.006097</td>\n",
              "      <td>0</td>\n",
              "    </tr>\n",
              "    <tr>\n",
              "      <th>4</th>\n",
              "      <td>1999-05-01 00:08:00</td>\n",
              "      <td>0</td>\n",
              "      <td>0.265578</td>\n",
              "      <td>-4.749928</td>\n",
              "      <td>-4.333150</td>\n",
              "      <td>15.267340</td>\n",
              "      <td>-0.155314</td>\n",
              "      <td>-17.505913</td>\n",
              "      <td>0.000732</td>\n",
              "      <td>-0.061114</td>\n",
              "      <td>...</td>\n",
              "      <td>29.984624</td>\n",
              "      <td>10.109054</td>\n",
              "      <td>-4.939414</td>\n",
              "      <td>-37.724789</td>\n",
              "      <td>21.907251</td>\n",
              "      <td>3.601573</td>\n",
              "      <td>0.033777</td>\n",
              "      <td>1.410494</td>\n",
              "      <td>0.006105</td>\n",
              "      <td>0</td>\n",
              "    </tr>\n",
              "  </tbody>\n",
              "</table>\n",
              "<p>5 rows × 62 columns</p>\n",
              "</div>\n",
              "    <div class=\"colab-df-buttons\">\n",
              "\n",
              "  <div class=\"colab-df-container\">\n",
              "    <button class=\"colab-df-convert\" onclick=\"convertToInteractive('df-945392ac-4669-4d68-ae12-27cfc1ec0004')\"\n",
              "            title=\"Convert this dataframe to an interactive table.\"\n",
              "            style=\"display:none;\">\n",
              "\n",
              "  <svg xmlns=\"http://www.w3.org/2000/svg\" height=\"24px\" viewBox=\"0 -960 960 960\">\n",
              "    <path d=\"M120-120v-720h720v720H120Zm60-500h600v-160H180v160Zm220 220h160v-160H400v160Zm0 220h160v-160H400v160ZM180-400h160v-160H180v160Zm440 0h160v-160H620v160ZM180-180h160v-160H180v160Zm440 0h160v-160H620v160Z\"/>\n",
              "  </svg>\n",
              "    </button>\n",
              "\n",
              "  <style>\n",
              "    .colab-df-container {\n",
              "      display:flex;\n",
              "      gap: 12px;\n",
              "    }\n",
              "\n",
              "    .colab-df-convert {\n",
              "      background-color: #E8F0FE;\n",
              "      border: none;\n",
              "      border-radius: 50%;\n",
              "      cursor: pointer;\n",
              "      display: none;\n",
              "      fill: #1967D2;\n",
              "      height: 32px;\n",
              "      padding: 0 0 0 0;\n",
              "      width: 32px;\n",
              "    }\n",
              "\n",
              "    .colab-df-convert:hover {\n",
              "      background-color: #E2EBFA;\n",
              "      box-shadow: 0px 1px 2px rgba(60, 64, 67, 0.3), 0px 1px 3px 1px rgba(60, 64, 67, 0.15);\n",
              "      fill: #174EA6;\n",
              "    }\n",
              "\n",
              "    .colab-df-buttons div {\n",
              "      margin-bottom: 4px;\n",
              "    }\n",
              "\n",
              "    [theme=dark] .colab-df-convert {\n",
              "      background-color: #3B4455;\n",
              "      fill: #D2E3FC;\n",
              "    }\n",
              "\n",
              "    [theme=dark] .colab-df-convert:hover {\n",
              "      background-color: #434B5C;\n",
              "      box-shadow: 0px 1px 3px 1px rgba(0, 0, 0, 0.15);\n",
              "      filter: drop-shadow(0px 1px 2px rgba(0, 0, 0, 0.3));\n",
              "      fill: #FFFFFF;\n",
              "    }\n",
              "  </style>\n",
              "\n",
              "    <script>\n",
              "      const buttonEl =\n",
              "        document.querySelector('#df-945392ac-4669-4d68-ae12-27cfc1ec0004 button.colab-df-convert');\n",
              "      buttonEl.style.display =\n",
              "        google.colab.kernel.accessAllowed ? 'block' : 'none';\n",
              "\n",
              "      async function convertToInteractive(key) {\n",
              "        const element = document.querySelector('#df-945392ac-4669-4d68-ae12-27cfc1ec0004');\n",
              "        const dataTable =\n",
              "          await google.colab.kernel.invokeFunction('convertToInteractive',\n",
              "                                                    [key], {});\n",
              "        if (!dataTable) return;\n",
              "\n",
              "        const docLinkHtml = 'Like what you see? Visit the ' +\n",
              "          '<a target=\"_blank\" href=https://colab.research.google.com/notebooks/data_table.ipynb>data table notebook</a>'\n",
              "          + ' to learn more about interactive tables.';\n",
              "        element.innerHTML = '';\n",
              "        dataTable['output_type'] = 'display_data';\n",
              "        await google.colab.output.renderOutput(dataTable, element);\n",
              "        const docLink = document.createElement('div');\n",
              "        docLink.innerHTML = docLinkHtml;\n",
              "        element.appendChild(docLink);\n",
              "      }\n",
              "    </script>\n",
              "  </div>\n",
              "\n",
              "\n",
              "<div id=\"df-8d5e959a-a8fb-49ad-bf1c-39983bd4af3e\">\n",
              "  <button class=\"colab-df-quickchart\" onclick=\"quickchart('df-8d5e959a-a8fb-49ad-bf1c-39983bd4af3e')\"\n",
              "            title=\"Suggest charts\"\n",
              "            style=\"display:none;\">\n",
              "\n",
              "<svg xmlns=\"http://www.w3.org/2000/svg\" height=\"24px\"viewBox=\"0 0 24 24\"\n",
              "     width=\"24px\">\n",
              "    <g>\n",
              "        <path d=\"M19 3H5c-1.1 0-2 .9-2 2v14c0 1.1.9 2 2 2h14c1.1 0 2-.9 2-2V5c0-1.1-.9-2-2-2zM9 17H7v-7h2v7zm4 0h-2V7h2v10zm4 0h-2v-4h2v4z\"/>\n",
              "    </g>\n",
              "</svg>\n",
              "  </button>\n",
              "\n",
              "<style>\n",
              "  .colab-df-quickchart {\n",
              "      --bg-color: #E8F0FE;\n",
              "      --fill-color: #1967D2;\n",
              "      --hover-bg-color: #E2EBFA;\n",
              "      --hover-fill-color: #174EA6;\n",
              "      --disabled-fill-color: #AAA;\n",
              "      --disabled-bg-color: #DDD;\n",
              "  }\n",
              "\n",
              "  [theme=dark] .colab-df-quickchart {\n",
              "      --bg-color: #3B4455;\n",
              "      --fill-color: #D2E3FC;\n",
              "      --hover-bg-color: #434B5C;\n",
              "      --hover-fill-color: #FFFFFF;\n",
              "      --disabled-bg-color: #3B4455;\n",
              "      --disabled-fill-color: #666;\n",
              "  }\n",
              "\n",
              "  .colab-df-quickchart {\n",
              "    background-color: var(--bg-color);\n",
              "    border: none;\n",
              "    border-radius: 50%;\n",
              "    cursor: pointer;\n",
              "    display: none;\n",
              "    fill: var(--fill-color);\n",
              "    height: 32px;\n",
              "    padding: 0;\n",
              "    width: 32px;\n",
              "  }\n",
              "\n",
              "  .colab-df-quickchart:hover {\n",
              "    background-color: var(--hover-bg-color);\n",
              "    box-shadow: 0 1px 2px rgba(60, 64, 67, 0.3), 0 1px 3px 1px rgba(60, 64, 67, 0.15);\n",
              "    fill: var(--button-hover-fill-color);\n",
              "  }\n",
              "\n",
              "  .colab-df-quickchart-complete:disabled,\n",
              "  .colab-df-quickchart-complete:disabled:hover {\n",
              "    background-color: var(--disabled-bg-color);\n",
              "    fill: var(--disabled-fill-color);\n",
              "    box-shadow: none;\n",
              "  }\n",
              "\n",
              "  .colab-df-spinner {\n",
              "    border: 2px solid var(--fill-color);\n",
              "    border-color: transparent;\n",
              "    border-bottom-color: var(--fill-color);\n",
              "    animation:\n",
              "      spin 1s steps(1) infinite;\n",
              "  }\n",
              "\n",
              "  @keyframes spin {\n",
              "    0% {\n",
              "      border-color: transparent;\n",
              "      border-bottom-color: var(--fill-color);\n",
              "      border-left-color: var(--fill-color);\n",
              "    }\n",
              "    20% {\n",
              "      border-color: transparent;\n",
              "      border-left-color: var(--fill-color);\n",
              "      border-top-color: var(--fill-color);\n",
              "    }\n",
              "    30% {\n",
              "      border-color: transparent;\n",
              "      border-left-color: var(--fill-color);\n",
              "      border-top-color: var(--fill-color);\n",
              "      border-right-color: var(--fill-color);\n",
              "    }\n",
              "    40% {\n",
              "      border-color: transparent;\n",
              "      border-right-color: var(--fill-color);\n",
              "      border-top-color: var(--fill-color);\n",
              "    }\n",
              "    60% {\n",
              "      border-color: transparent;\n",
              "      border-right-color: var(--fill-color);\n",
              "    }\n",
              "    80% {\n",
              "      border-color: transparent;\n",
              "      border-right-color: var(--fill-color);\n",
              "      border-bottom-color: var(--fill-color);\n",
              "    }\n",
              "    90% {\n",
              "      border-color: transparent;\n",
              "      border-bottom-color: var(--fill-color);\n",
              "    }\n",
              "  }\n",
              "</style>\n",
              "\n",
              "  <script>\n",
              "    async function quickchart(key) {\n",
              "      const quickchartButtonEl =\n",
              "        document.querySelector('#' + key + ' button');\n",
              "      quickchartButtonEl.disabled = true;  // To prevent multiple clicks.\n",
              "      quickchartButtonEl.classList.add('colab-df-spinner');\n",
              "      try {\n",
              "        const charts = await google.colab.kernel.invokeFunction(\n",
              "            'suggestCharts', [key], {});\n",
              "      } catch (error) {\n",
              "        console.error('Error during call to suggestCharts:', error);\n",
              "      }\n",
              "      quickchartButtonEl.classList.remove('colab-df-spinner');\n",
              "      quickchartButtonEl.classList.add('colab-df-quickchart-complete');\n",
              "    }\n",
              "    (() => {\n",
              "      let quickchartButtonEl =\n",
              "        document.querySelector('#df-8d5e959a-a8fb-49ad-bf1c-39983bd4af3e button');\n",
              "      quickchartButtonEl.style.display =\n",
              "        google.colab.kernel.accessAllowed ? 'block' : 'none';\n",
              "    })();\n",
              "  </script>\n",
              "</div>\n",
              "\n",
              "    </div>\n",
              "  </div>\n"
            ],
            "application/vnd.google.colaboratory.intrinsic+json": {
              "type": "dataframe",
              "variable_name": "data"
            }
          },
          "metadata": {},
          "execution_count": 5
        }
      ]
    },
    {
      "cell_type": "code",
      "source": [
        "data.info()"
      ],
      "metadata": {
        "id": "jlQWRlGcOoB1",
        "colab": {
          "base_uri": "https://localhost:8080/"
        },
        "outputId": "a8c4c42e-a1ff-4378-bf23-60493ea25f04",
        "collapsed": true
      },
      "execution_count": null,
      "outputs": [
        {
          "output_type": "stream",
          "name": "stdout",
          "text": [
            "<class 'pandas.core.frame.DataFrame'>\n",
            "RangeIndex: 18398 entries, 0 to 18397\n",
            "Data columns (total 62 columns):\n",
            " #   Column  Non-Null Count  Dtype         \n",
            "---  ------  --------------  -----         \n",
            " 0   time    18398 non-null  datetime64[ns]\n",
            " 1   y       18398 non-null  int64         \n",
            " 2   x1      18398 non-null  float64       \n",
            " 3   x2      18398 non-null  float64       \n",
            " 4   x3      18398 non-null  float64       \n",
            " 5   x4      18398 non-null  float64       \n",
            " 6   x5      18398 non-null  float64       \n",
            " 7   x6      18398 non-null  float64       \n",
            " 8   x7      18398 non-null  float64       \n",
            " 9   x8      18398 non-null  float64       \n",
            " 10  x9      18398 non-null  float64       \n",
            " 11  x10     18398 non-null  float64       \n",
            " 12  x11     18398 non-null  float64       \n",
            " 13  x12     18398 non-null  float64       \n",
            " 14  x13     18398 non-null  float64       \n",
            " 15  x14     18398 non-null  float64       \n",
            " 16  x15     18398 non-null  float64       \n",
            " 17  x16     18398 non-null  float64       \n",
            " 18  x17     18398 non-null  float64       \n",
            " 19  x18     18398 non-null  float64       \n",
            " 20  x19     18398 non-null  float64       \n",
            " 21  x20     18398 non-null  float64       \n",
            " 22  x21     18398 non-null  float64       \n",
            " 23  x22     18398 non-null  float64       \n",
            " 24  x23     18398 non-null  float64       \n",
            " 25  x24     18398 non-null  float64       \n",
            " 26  x25     18398 non-null  float64       \n",
            " 27  x26     18398 non-null  float64       \n",
            " 28  x27     18398 non-null  float64       \n",
            " 29  x28     18398 non-null  int64         \n",
            " 30  x29     18398 non-null  float64       \n",
            " 31  x30     18398 non-null  float64       \n",
            " 32  x31     18398 non-null  float64       \n",
            " 33  x32     18398 non-null  float64       \n",
            " 34  x33     18398 non-null  float64       \n",
            " 35  x34     18398 non-null  float64       \n",
            " 36  x35     18398 non-null  float64       \n",
            " 37  x36     18398 non-null  float64       \n",
            " 38  x37     18398 non-null  float64       \n",
            " 39  x38     18398 non-null  float64       \n",
            " 40  x39     18398 non-null  float64       \n",
            " 41  x40     18398 non-null  float64       \n",
            " 42  x41     18398 non-null  float64       \n",
            " 43  x42     18398 non-null  float64       \n",
            " 44  x43     18398 non-null  float64       \n",
            " 45  x44     18398 non-null  float64       \n",
            " 46  x45     18398 non-null  float64       \n",
            " 47  x46     18398 non-null  float64       \n",
            " 48  x47     18398 non-null  float64       \n",
            " 49  x48     18398 non-null  float64       \n",
            " 50  x49     18398 non-null  float64       \n",
            " 51  x50     18398 non-null  float64       \n",
            " 52  x51     18398 non-null  float64       \n",
            " 53  x52     18398 non-null  float64       \n",
            " 54  x54     18398 non-null  float64       \n",
            " 55  x55     18398 non-null  float64       \n",
            " 56  x56     18398 non-null  float64       \n",
            " 57  x57     18398 non-null  float64       \n",
            " 58  x58     18398 non-null  float64       \n",
            " 59  x59     18398 non-null  float64       \n",
            " 60  x60     18398 non-null  float64       \n",
            " 61  y.1     18398 non-null  int64         \n",
            "dtypes: datetime64[ns](1), float64(58), int64(3)\n",
            "memory usage: 8.7 MB\n"
          ]
        }
      ]
    },
    {
      "cell_type": "code",
      "source": [
        "data.shape"
      ],
      "metadata": {
        "colab": {
          "base_uri": "https://localhost:8080/"
        },
        "id": "w255oxc9TySg",
        "outputId": "8c1d67ab-c59f-459e-befd-f2aee70edca1"
      },
      "execution_count": null,
      "outputs": [
        {
          "output_type": "execute_result",
          "data": {
            "text/plain": [
              "(18398, 62)"
            ]
          },
          "metadata": {},
          "execution_count": 8
        }
      ]
    },
    {
      "cell_type": "code",
      "source": [
        "data.describe()"
      ],
      "metadata": {
        "colab": {
          "base_uri": "https://localhost:8080/",
          "height": 453
        },
        "id": "RuBcexROYxce",
        "outputId": "c08fc399-1b73-499b-82cc-8bdbbb43440a"
      },
      "execution_count": null,
      "outputs": [
        {
          "output_type": "execute_result",
          "data": {
            "text/plain": [
              "                                time             y            x1  \\\n",
              "count                          18398  18398.000000  18398.000000   \n",
              "mean   1999-05-15 01:20:42.728557312      0.006740      0.011824   \n",
              "min              1999-05-01 00:00:00      0.000000     -3.787279   \n",
              "25%              1999-05-08 03:36:30      0.000000     -0.405681   \n",
              "50%              1999-05-14 18:39:00      0.000000      0.128245   \n",
              "75%              1999-05-22 06:01:30      0.000000      0.421222   \n",
              "max              1999-05-29 00:06:00      1.000000      3.054156   \n",
              "std                              NaN      0.081822      0.742875   \n",
              "\n",
              "                 x2            x3            x4            x5            x6  \\\n",
              "count  18398.000000  18398.000000  18398.000000  18398.000000  18398.000000   \n",
              "mean       0.157986      0.569300     -9.958345      0.006518      2.387533   \n",
              "min      -17.316550    -18.198509   -322.781610     -1.623988   -279.408440   \n",
              "25%       -2.158235     -3.537054   -111.378372     -0.446787    -24.345268   \n",
              "50%       -0.075505     -0.190683    -14.881585     -0.120745     10.528435   \n",
              "75%        2.319297      3.421223     92.199134      0.325152     32.172974   \n",
              "max       16.742105     15.900116    334.694098      4.239385     96.060768   \n",
              "std        4.939762      5.937178    131.033712      0.634054     37.104012   \n",
              "\n",
              "                 x7            x8  ...           x51           x52  \\\n",
              "count  18398.000000  18398.000000  ...  18398.000000  18398.000000   \n",
              "mean       0.001647     -0.004125  ...     -3.357339      0.380519   \n",
              "min       -0.429273     -0.451141  ...  -3652.989000   -187.943440   \n",
              "25%       -0.058520     -0.051043  ...     29.984624     -3.672684   \n",
              "50%       -0.009338     -0.000993  ...     29.984624      0.294846   \n",
              "75%        0.060515      0.038986  ...     29.984624      5.109543   \n",
              "max        1.705590      0.788826  ...     40.152348     14.180588   \n",
              "std        0.108870      0.075460  ...    348.256716      6.211598   \n",
              "\n",
              "                x54           x55           x56           x57           x58  \\\n",
              "count  18398.000000  18398.000000  18398.000000  18398.000000  18398.000000   \n",
              "mean       0.173708      2.379154      9.234953      0.233493     -0.001861   \n",
              "min       -8.210370   -230.574030   -269.039500    -12.640370     -0.149790   \n",
              "25%        0.487780    -40.050046    -45.519149     -1.598804      0.000470   \n",
              "50%        0.702299     17.471317      1.438806      0.085826      0.012888   \n",
              "75%        2.675751     44.093387     63.209681      2.222118      0.020991   \n",
              "max        6.637265    287.252017    252.147455      6.922008      0.067249   \n",
              "std        3.029516     67.940694     81.274103      2.326838      0.048732   \n",
              "\n",
              "                x59           x60           y.1  \n",
              "count  18398.000000  18398.000000  18398.000000  \n",
              "mean      -0.061522      0.001258      0.001033  \n",
              "min     -100.810500     -0.012229      0.000000  \n",
              "25%        0.295023     -0.001805      0.000000  \n",
              "50%        0.734591      0.000710      0.000000  \n",
              "75%        1.266506      0.004087      0.000000  \n",
              "max        6.985460      0.020510      1.000000  \n",
              "std       10.394085      0.004721      0.032120  \n",
              "\n",
              "[8 rows x 62 columns]"
            ],
            "text/html": [
              "\n",
              "  <div id=\"df-d259752a-85fc-45f2-abec-672ddf4d2abb\" class=\"colab-df-container\">\n",
              "    <div>\n",
              "<style scoped>\n",
              "    .dataframe tbody tr th:only-of-type {\n",
              "        vertical-align: middle;\n",
              "    }\n",
              "\n",
              "    .dataframe tbody tr th {\n",
              "        vertical-align: top;\n",
              "    }\n",
              "\n",
              "    .dataframe thead th {\n",
              "        text-align: right;\n",
              "    }\n",
              "</style>\n",
              "<table border=\"1\" class=\"dataframe\">\n",
              "  <thead>\n",
              "    <tr style=\"text-align: right;\">\n",
              "      <th></th>\n",
              "      <th>time</th>\n",
              "      <th>y</th>\n",
              "      <th>x1</th>\n",
              "      <th>x2</th>\n",
              "      <th>x3</th>\n",
              "      <th>x4</th>\n",
              "      <th>x5</th>\n",
              "      <th>x6</th>\n",
              "      <th>x7</th>\n",
              "      <th>x8</th>\n",
              "      <th>...</th>\n",
              "      <th>x51</th>\n",
              "      <th>x52</th>\n",
              "      <th>x54</th>\n",
              "      <th>x55</th>\n",
              "      <th>x56</th>\n",
              "      <th>x57</th>\n",
              "      <th>x58</th>\n",
              "      <th>x59</th>\n",
              "      <th>x60</th>\n",
              "      <th>y.1</th>\n",
              "    </tr>\n",
              "  </thead>\n",
              "  <tbody>\n",
              "    <tr>\n",
              "      <th>count</th>\n",
              "      <td>18398</td>\n",
              "      <td>18398.000000</td>\n",
              "      <td>18398.000000</td>\n",
              "      <td>18398.000000</td>\n",
              "      <td>18398.000000</td>\n",
              "      <td>18398.000000</td>\n",
              "      <td>18398.000000</td>\n",
              "      <td>18398.000000</td>\n",
              "      <td>18398.000000</td>\n",
              "      <td>18398.000000</td>\n",
              "      <td>...</td>\n",
              "      <td>18398.000000</td>\n",
              "      <td>18398.000000</td>\n",
              "      <td>18398.000000</td>\n",
              "      <td>18398.000000</td>\n",
              "      <td>18398.000000</td>\n",
              "      <td>18398.000000</td>\n",
              "      <td>18398.000000</td>\n",
              "      <td>18398.000000</td>\n",
              "      <td>18398.000000</td>\n",
              "      <td>18398.000000</td>\n",
              "    </tr>\n",
              "    <tr>\n",
              "      <th>mean</th>\n",
              "      <td>1999-05-15 01:20:42.728557312</td>\n",
              "      <td>0.006740</td>\n",
              "      <td>0.011824</td>\n",
              "      <td>0.157986</td>\n",
              "      <td>0.569300</td>\n",
              "      <td>-9.958345</td>\n",
              "      <td>0.006518</td>\n",
              "      <td>2.387533</td>\n",
              "      <td>0.001647</td>\n",
              "      <td>-0.004125</td>\n",
              "      <td>...</td>\n",
              "      <td>-3.357339</td>\n",
              "      <td>0.380519</td>\n",
              "      <td>0.173708</td>\n",
              "      <td>2.379154</td>\n",
              "      <td>9.234953</td>\n",
              "      <td>0.233493</td>\n",
              "      <td>-0.001861</td>\n",
              "      <td>-0.061522</td>\n",
              "      <td>0.001258</td>\n",
              "      <td>0.001033</td>\n",
              "    </tr>\n",
              "    <tr>\n",
              "      <th>min</th>\n",
              "      <td>1999-05-01 00:00:00</td>\n",
              "      <td>0.000000</td>\n",
              "      <td>-3.787279</td>\n",
              "      <td>-17.316550</td>\n",
              "      <td>-18.198509</td>\n",
              "      <td>-322.781610</td>\n",
              "      <td>-1.623988</td>\n",
              "      <td>-279.408440</td>\n",
              "      <td>-0.429273</td>\n",
              "      <td>-0.451141</td>\n",
              "      <td>...</td>\n",
              "      <td>-3652.989000</td>\n",
              "      <td>-187.943440</td>\n",
              "      <td>-8.210370</td>\n",
              "      <td>-230.574030</td>\n",
              "      <td>-269.039500</td>\n",
              "      <td>-12.640370</td>\n",
              "      <td>-0.149790</td>\n",
              "      <td>-100.810500</td>\n",
              "      <td>-0.012229</td>\n",
              "      <td>0.000000</td>\n",
              "    </tr>\n",
              "    <tr>\n",
              "      <th>25%</th>\n",
              "      <td>1999-05-08 03:36:30</td>\n",
              "      <td>0.000000</td>\n",
              "      <td>-0.405681</td>\n",
              "      <td>-2.158235</td>\n",
              "      <td>-3.537054</td>\n",
              "      <td>-111.378372</td>\n",
              "      <td>-0.446787</td>\n",
              "      <td>-24.345268</td>\n",
              "      <td>-0.058520</td>\n",
              "      <td>-0.051043</td>\n",
              "      <td>...</td>\n",
              "      <td>29.984624</td>\n",
              "      <td>-3.672684</td>\n",
              "      <td>0.487780</td>\n",
              "      <td>-40.050046</td>\n",
              "      <td>-45.519149</td>\n",
              "      <td>-1.598804</td>\n",
              "      <td>0.000470</td>\n",
              "      <td>0.295023</td>\n",
              "      <td>-0.001805</td>\n",
              "      <td>0.000000</td>\n",
              "    </tr>\n",
              "    <tr>\n",
              "      <th>50%</th>\n",
              "      <td>1999-05-14 18:39:00</td>\n",
              "      <td>0.000000</td>\n",
              "      <td>0.128245</td>\n",
              "      <td>-0.075505</td>\n",
              "      <td>-0.190683</td>\n",
              "      <td>-14.881585</td>\n",
              "      <td>-0.120745</td>\n",
              "      <td>10.528435</td>\n",
              "      <td>-0.009338</td>\n",
              "      <td>-0.000993</td>\n",
              "      <td>...</td>\n",
              "      <td>29.984624</td>\n",
              "      <td>0.294846</td>\n",
              "      <td>0.702299</td>\n",
              "      <td>17.471317</td>\n",
              "      <td>1.438806</td>\n",
              "      <td>0.085826</td>\n",
              "      <td>0.012888</td>\n",
              "      <td>0.734591</td>\n",
              "      <td>0.000710</td>\n",
              "      <td>0.000000</td>\n",
              "    </tr>\n",
              "    <tr>\n",
              "      <th>75%</th>\n",
              "      <td>1999-05-22 06:01:30</td>\n",
              "      <td>0.000000</td>\n",
              "      <td>0.421222</td>\n",
              "      <td>2.319297</td>\n",
              "      <td>3.421223</td>\n",
              "      <td>92.199134</td>\n",
              "      <td>0.325152</td>\n",
              "      <td>32.172974</td>\n",
              "      <td>0.060515</td>\n",
              "      <td>0.038986</td>\n",
              "      <td>...</td>\n",
              "      <td>29.984624</td>\n",
              "      <td>5.109543</td>\n",
              "      <td>2.675751</td>\n",
              "      <td>44.093387</td>\n",
              "      <td>63.209681</td>\n",
              "      <td>2.222118</td>\n",
              "      <td>0.020991</td>\n",
              "      <td>1.266506</td>\n",
              "      <td>0.004087</td>\n",
              "      <td>0.000000</td>\n",
              "    </tr>\n",
              "    <tr>\n",
              "      <th>max</th>\n",
              "      <td>1999-05-29 00:06:00</td>\n",
              "      <td>1.000000</td>\n",
              "      <td>3.054156</td>\n",
              "      <td>16.742105</td>\n",
              "      <td>15.900116</td>\n",
              "      <td>334.694098</td>\n",
              "      <td>4.239385</td>\n",
              "      <td>96.060768</td>\n",
              "      <td>1.705590</td>\n",
              "      <td>0.788826</td>\n",
              "      <td>...</td>\n",
              "      <td>40.152348</td>\n",
              "      <td>14.180588</td>\n",
              "      <td>6.637265</td>\n",
              "      <td>287.252017</td>\n",
              "      <td>252.147455</td>\n",
              "      <td>6.922008</td>\n",
              "      <td>0.067249</td>\n",
              "      <td>6.985460</td>\n",
              "      <td>0.020510</td>\n",
              "      <td>1.000000</td>\n",
              "    </tr>\n",
              "    <tr>\n",
              "      <th>std</th>\n",
              "      <td>NaN</td>\n",
              "      <td>0.081822</td>\n",
              "      <td>0.742875</td>\n",
              "      <td>4.939762</td>\n",
              "      <td>5.937178</td>\n",
              "      <td>131.033712</td>\n",
              "      <td>0.634054</td>\n",
              "      <td>37.104012</td>\n",
              "      <td>0.108870</td>\n",
              "      <td>0.075460</td>\n",
              "      <td>...</td>\n",
              "      <td>348.256716</td>\n",
              "      <td>6.211598</td>\n",
              "      <td>3.029516</td>\n",
              "      <td>67.940694</td>\n",
              "      <td>81.274103</td>\n",
              "      <td>2.326838</td>\n",
              "      <td>0.048732</td>\n",
              "      <td>10.394085</td>\n",
              "      <td>0.004721</td>\n",
              "      <td>0.032120</td>\n",
              "    </tr>\n",
              "  </tbody>\n",
              "</table>\n",
              "<p>8 rows × 62 columns</p>\n",
              "</div>\n",
              "    <div class=\"colab-df-buttons\">\n",
              "\n",
              "  <div class=\"colab-df-container\">\n",
              "    <button class=\"colab-df-convert\" onclick=\"convertToInteractive('df-d259752a-85fc-45f2-abec-672ddf4d2abb')\"\n",
              "            title=\"Convert this dataframe to an interactive table.\"\n",
              "            style=\"display:none;\">\n",
              "\n",
              "  <svg xmlns=\"http://www.w3.org/2000/svg\" height=\"24px\" viewBox=\"0 -960 960 960\">\n",
              "    <path d=\"M120-120v-720h720v720H120Zm60-500h600v-160H180v160Zm220 220h160v-160H400v160Zm0 220h160v-160H400v160ZM180-400h160v-160H180v160Zm440 0h160v-160H620v160ZM180-180h160v-160H180v160Zm440 0h160v-160H620v160Z\"/>\n",
              "  </svg>\n",
              "    </button>\n",
              "\n",
              "  <style>\n",
              "    .colab-df-container {\n",
              "      display:flex;\n",
              "      gap: 12px;\n",
              "    }\n",
              "\n",
              "    .colab-df-convert {\n",
              "      background-color: #E8F0FE;\n",
              "      border: none;\n",
              "      border-radius: 50%;\n",
              "      cursor: pointer;\n",
              "      display: none;\n",
              "      fill: #1967D2;\n",
              "      height: 32px;\n",
              "      padding: 0 0 0 0;\n",
              "      width: 32px;\n",
              "    }\n",
              "\n",
              "    .colab-df-convert:hover {\n",
              "      background-color: #E2EBFA;\n",
              "      box-shadow: 0px 1px 2px rgba(60, 64, 67, 0.3), 0px 1px 3px 1px rgba(60, 64, 67, 0.15);\n",
              "      fill: #174EA6;\n",
              "    }\n",
              "\n",
              "    .colab-df-buttons div {\n",
              "      margin-bottom: 4px;\n",
              "    }\n",
              "\n",
              "    [theme=dark] .colab-df-convert {\n",
              "      background-color: #3B4455;\n",
              "      fill: #D2E3FC;\n",
              "    }\n",
              "\n",
              "    [theme=dark] .colab-df-convert:hover {\n",
              "      background-color: #434B5C;\n",
              "      box-shadow: 0px 1px 3px 1px rgba(0, 0, 0, 0.15);\n",
              "      filter: drop-shadow(0px 1px 2px rgba(0, 0, 0, 0.3));\n",
              "      fill: #FFFFFF;\n",
              "    }\n",
              "  </style>\n",
              "\n",
              "    <script>\n",
              "      const buttonEl =\n",
              "        document.querySelector('#df-d259752a-85fc-45f2-abec-672ddf4d2abb button.colab-df-convert');\n",
              "      buttonEl.style.display =\n",
              "        google.colab.kernel.accessAllowed ? 'block' : 'none';\n",
              "\n",
              "      async function convertToInteractive(key) {\n",
              "        const element = document.querySelector('#df-d259752a-85fc-45f2-abec-672ddf4d2abb');\n",
              "        const dataTable =\n",
              "          await google.colab.kernel.invokeFunction('convertToInteractive',\n",
              "                                                    [key], {});\n",
              "        if (!dataTable) return;\n",
              "\n",
              "        const docLinkHtml = 'Like what you see? Visit the ' +\n",
              "          '<a target=\"_blank\" href=https://colab.research.google.com/notebooks/data_table.ipynb>data table notebook</a>'\n",
              "          + ' to learn more about interactive tables.';\n",
              "        element.innerHTML = '';\n",
              "        dataTable['output_type'] = 'display_data';\n",
              "        await google.colab.output.renderOutput(dataTable, element);\n",
              "        const docLink = document.createElement('div');\n",
              "        docLink.innerHTML = docLinkHtml;\n",
              "        element.appendChild(docLink);\n",
              "      }\n",
              "    </script>\n",
              "  </div>\n",
              "\n",
              "\n",
              "<div id=\"df-4eb34ff1-3310-4a2a-865d-42c2cec81832\">\n",
              "  <button class=\"colab-df-quickchart\" onclick=\"quickchart('df-4eb34ff1-3310-4a2a-865d-42c2cec81832')\"\n",
              "            title=\"Suggest charts\"\n",
              "            style=\"display:none;\">\n",
              "\n",
              "<svg xmlns=\"http://www.w3.org/2000/svg\" height=\"24px\"viewBox=\"0 0 24 24\"\n",
              "     width=\"24px\">\n",
              "    <g>\n",
              "        <path d=\"M19 3H5c-1.1 0-2 .9-2 2v14c0 1.1.9 2 2 2h14c1.1 0 2-.9 2-2V5c0-1.1-.9-2-2-2zM9 17H7v-7h2v7zm4 0h-2V7h2v10zm4 0h-2v-4h2v4z\"/>\n",
              "    </g>\n",
              "</svg>\n",
              "  </button>\n",
              "\n",
              "<style>\n",
              "  .colab-df-quickchart {\n",
              "      --bg-color: #E8F0FE;\n",
              "      --fill-color: #1967D2;\n",
              "      --hover-bg-color: #E2EBFA;\n",
              "      --hover-fill-color: #174EA6;\n",
              "      --disabled-fill-color: #AAA;\n",
              "      --disabled-bg-color: #DDD;\n",
              "  }\n",
              "\n",
              "  [theme=dark] .colab-df-quickchart {\n",
              "      --bg-color: #3B4455;\n",
              "      --fill-color: #D2E3FC;\n",
              "      --hover-bg-color: #434B5C;\n",
              "      --hover-fill-color: #FFFFFF;\n",
              "      --disabled-bg-color: #3B4455;\n",
              "      --disabled-fill-color: #666;\n",
              "  }\n",
              "\n",
              "  .colab-df-quickchart {\n",
              "    background-color: var(--bg-color);\n",
              "    border: none;\n",
              "    border-radius: 50%;\n",
              "    cursor: pointer;\n",
              "    display: none;\n",
              "    fill: var(--fill-color);\n",
              "    height: 32px;\n",
              "    padding: 0;\n",
              "    width: 32px;\n",
              "  }\n",
              "\n",
              "  .colab-df-quickchart:hover {\n",
              "    background-color: var(--hover-bg-color);\n",
              "    box-shadow: 0 1px 2px rgba(60, 64, 67, 0.3), 0 1px 3px 1px rgba(60, 64, 67, 0.15);\n",
              "    fill: var(--button-hover-fill-color);\n",
              "  }\n",
              "\n",
              "  .colab-df-quickchart-complete:disabled,\n",
              "  .colab-df-quickchart-complete:disabled:hover {\n",
              "    background-color: var(--disabled-bg-color);\n",
              "    fill: var(--disabled-fill-color);\n",
              "    box-shadow: none;\n",
              "  }\n",
              "\n",
              "  .colab-df-spinner {\n",
              "    border: 2px solid var(--fill-color);\n",
              "    border-color: transparent;\n",
              "    border-bottom-color: var(--fill-color);\n",
              "    animation:\n",
              "      spin 1s steps(1) infinite;\n",
              "  }\n",
              "\n",
              "  @keyframes spin {\n",
              "    0% {\n",
              "      border-color: transparent;\n",
              "      border-bottom-color: var(--fill-color);\n",
              "      border-left-color: var(--fill-color);\n",
              "    }\n",
              "    20% {\n",
              "      border-color: transparent;\n",
              "      border-left-color: var(--fill-color);\n",
              "      border-top-color: var(--fill-color);\n",
              "    }\n",
              "    30% {\n",
              "      border-color: transparent;\n",
              "      border-left-color: var(--fill-color);\n",
              "      border-top-color: var(--fill-color);\n",
              "      border-right-color: var(--fill-color);\n",
              "    }\n",
              "    40% {\n",
              "      border-color: transparent;\n",
              "      border-right-color: var(--fill-color);\n",
              "      border-top-color: var(--fill-color);\n",
              "    }\n",
              "    60% {\n",
              "      border-color: transparent;\n",
              "      border-right-color: var(--fill-color);\n",
              "    }\n",
              "    80% {\n",
              "      border-color: transparent;\n",
              "      border-right-color: var(--fill-color);\n",
              "      border-bottom-color: var(--fill-color);\n",
              "    }\n",
              "    90% {\n",
              "      border-color: transparent;\n",
              "      border-bottom-color: var(--fill-color);\n",
              "    }\n",
              "  }\n",
              "</style>\n",
              "\n",
              "  <script>\n",
              "    async function quickchart(key) {\n",
              "      const quickchartButtonEl =\n",
              "        document.querySelector('#' + key + ' button');\n",
              "      quickchartButtonEl.disabled = true;  // To prevent multiple clicks.\n",
              "      quickchartButtonEl.classList.add('colab-df-spinner');\n",
              "      try {\n",
              "        const charts = await google.colab.kernel.invokeFunction(\n",
              "            'suggestCharts', [key], {});\n",
              "      } catch (error) {\n",
              "        console.error('Error during call to suggestCharts:', error);\n",
              "      }\n",
              "      quickchartButtonEl.classList.remove('colab-df-spinner');\n",
              "      quickchartButtonEl.classList.add('colab-df-quickchart-complete');\n",
              "    }\n",
              "    (() => {\n",
              "      let quickchartButtonEl =\n",
              "        document.querySelector('#df-4eb34ff1-3310-4a2a-865d-42c2cec81832 button');\n",
              "      quickchartButtonEl.style.display =\n",
              "        google.colab.kernel.accessAllowed ? 'block' : 'none';\n",
              "    })();\n",
              "  </script>\n",
              "</div>\n",
              "\n",
              "    </div>\n",
              "  </div>\n"
            ],
            "application/vnd.google.colaboratory.intrinsic+json": {
              "type": "dataframe"
            }
          },
          "metadata": {},
          "execution_count": 7
        }
      ]
    },
    {
      "cell_type": "markdown",
      "source": [
        "**Exploratory Data analysis**"
      ],
      "metadata": {
        "id": "jN-DPxRtT9YN"
      }
    },
    {
      "cell_type": "markdown",
      "source": [
        "Checking missing values"
      ],
      "metadata": {
        "id": "nlksE5NzUP8d"
      }
    },
    {
      "cell_type": "code",
      "source": [
        "# Check for missing values\n",
        "missing_values = data.isnull().sum()\n",
        "\n",
        "# Check for duplicated columns\n",
        "duplicated_columns = data.columns[data.columns.duplicated()].tolist()\n",
        "\n",
        "# Convert 'time' column to datetime format\n",
        "data['time'] = pd.to_datetime(data['time'])"
      ],
      "metadata": {
        "id": "xchBz641UAoR"
      },
      "execution_count": null,
      "outputs": []
    },
    {
      "cell_type": "code",
      "source": [
        "# Display results\n",
        "missing_values, duplicated_columns, data.dtypes.head()"
      ],
      "metadata": {
        "colab": {
          "base_uri": "https://localhost:8080/"
        },
        "id": "axL98OZURKiU",
        "outputId": "88989347-9059-4fa8-fb3d-a83e0ef6454a"
      },
      "execution_count": null,
      "outputs": [
        {
          "output_type": "execute_result",
          "data": {
            "text/plain": [
              "(time    0\n",
              " y       0\n",
              " x1      0\n",
              " x2      0\n",
              " x3      0\n",
              "        ..\n",
              " x57     0\n",
              " x58     0\n",
              " x59     0\n",
              " x60     0\n",
              " y.1     0\n",
              " Length: 62, dtype: int64,\n",
              " [],\n",
              " time    datetime64[ns]\n",
              " y                int64\n",
              " x1             float64\n",
              " x2             float64\n",
              " x3             float64\n",
              " dtype: object)"
            ]
          },
          "metadata": {},
          "execution_count": 14
        }
      ]
    },
    {
      "cell_type": "code",
      "source": [
        "# Drop the duplicated column 'y.1'\n",
        "data_cleaned = data.drop(columns=['y.1'])\n",
        "\n",
        "# Verify the column removal\n",
        "data_cleaned.head()\n"
      ],
      "metadata": {
        "colab": {
          "base_uri": "https://localhost:8080/",
          "height": 429
        },
        "id": "UHp-a2OIRTnw",
        "outputId": "65837fae-ee70-4ccc-836f-0b68919fc1a5"
      },
      "execution_count": null,
      "outputs": [
        {
          "output_type": "execute_result",
          "data": {
            "text/plain": [
              "                 time  y        x1        x2        x3         x4        x5  \\\n",
              "0 1999-05-01 00:00:00  0  0.376665 -4.596435 -4.095756  13.497687 -0.118830   \n",
              "1 1999-05-01 00:02:00  0  0.475720 -4.542502 -4.018359  16.230659 -0.128733   \n",
              "2 1999-05-01 00:04:00  0  0.363848 -4.681394 -4.353147  14.127997 -0.138636   \n",
              "3 1999-05-01 00:06:00  0  0.301590 -4.758934 -4.023612  13.161566 -0.148142   \n",
              "4 1999-05-01 00:08:00  0  0.265578 -4.749928 -4.333150  15.267340 -0.155314   \n",
              "\n",
              "          x6        x7        x8  ...        x50        x51        x52  \\\n",
              "0 -20.669883  0.000732 -0.061114  ...  11.295155  29.984624  10.091721   \n",
              "1 -18.758079  0.000732 -0.061114  ...  11.290761  29.984624  10.095871   \n",
              "2 -17.836632  0.010803 -0.061114  ...  11.286366  29.984624  10.100265   \n",
              "3 -18.517601  0.002075 -0.061114  ...  11.281972  29.984624  10.104660   \n",
              "4 -17.505913  0.000732 -0.061114  ...  11.277577  29.984624  10.109054   \n",
              "\n",
              "        x54        x55        x56       x57       x58       x59       x60  \n",
              "0 -4.936434 -24.590146  18.515436  3.473400  0.033444  0.953219  0.006076  \n",
              "1 -4.937179 -32.413266  22.760065  2.682933  0.033536  1.090502  0.006083  \n",
              "2 -4.937924 -34.183774  27.004663  3.537487  0.033629  1.840540  0.006090  \n",
              "3 -4.938669 -35.954281  21.672449  3.986095  0.033721  2.554880  0.006097  \n",
              "4 -4.939414 -37.724789  21.907251  3.601573  0.033777  1.410494  0.006105  \n",
              "\n",
              "[5 rows x 61 columns]"
            ],
            "text/html": [
              "\n",
              "  <div id=\"df-65311ab4-af98-495c-8e74-2d13dc910ca6\" class=\"colab-df-container\">\n",
              "    <div>\n",
              "<style scoped>\n",
              "    .dataframe tbody tr th:only-of-type {\n",
              "        vertical-align: middle;\n",
              "    }\n",
              "\n",
              "    .dataframe tbody tr th {\n",
              "        vertical-align: top;\n",
              "    }\n",
              "\n",
              "    .dataframe thead th {\n",
              "        text-align: right;\n",
              "    }\n",
              "</style>\n",
              "<table border=\"1\" class=\"dataframe\">\n",
              "  <thead>\n",
              "    <tr style=\"text-align: right;\">\n",
              "      <th></th>\n",
              "      <th>time</th>\n",
              "      <th>y</th>\n",
              "      <th>x1</th>\n",
              "      <th>x2</th>\n",
              "      <th>x3</th>\n",
              "      <th>x4</th>\n",
              "      <th>x5</th>\n",
              "      <th>x6</th>\n",
              "      <th>x7</th>\n",
              "      <th>x8</th>\n",
              "      <th>...</th>\n",
              "      <th>x50</th>\n",
              "      <th>x51</th>\n",
              "      <th>x52</th>\n",
              "      <th>x54</th>\n",
              "      <th>x55</th>\n",
              "      <th>x56</th>\n",
              "      <th>x57</th>\n",
              "      <th>x58</th>\n",
              "      <th>x59</th>\n",
              "      <th>x60</th>\n",
              "    </tr>\n",
              "  </thead>\n",
              "  <tbody>\n",
              "    <tr>\n",
              "      <th>0</th>\n",
              "      <td>1999-05-01 00:00:00</td>\n",
              "      <td>0</td>\n",
              "      <td>0.376665</td>\n",
              "      <td>-4.596435</td>\n",
              "      <td>-4.095756</td>\n",
              "      <td>13.497687</td>\n",
              "      <td>-0.118830</td>\n",
              "      <td>-20.669883</td>\n",
              "      <td>0.000732</td>\n",
              "      <td>-0.061114</td>\n",
              "      <td>...</td>\n",
              "      <td>11.295155</td>\n",
              "      <td>29.984624</td>\n",
              "      <td>10.091721</td>\n",
              "      <td>-4.936434</td>\n",
              "      <td>-24.590146</td>\n",
              "      <td>18.515436</td>\n",
              "      <td>3.473400</td>\n",
              "      <td>0.033444</td>\n",
              "      <td>0.953219</td>\n",
              "      <td>0.006076</td>\n",
              "    </tr>\n",
              "    <tr>\n",
              "      <th>1</th>\n",
              "      <td>1999-05-01 00:02:00</td>\n",
              "      <td>0</td>\n",
              "      <td>0.475720</td>\n",
              "      <td>-4.542502</td>\n",
              "      <td>-4.018359</td>\n",
              "      <td>16.230659</td>\n",
              "      <td>-0.128733</td>\n",
              "      <td>-18.758079</td>\n",
              "      <td>0.000732</td>\n",
              "      <td>-0.061114</td>\n",
              "      <td>...</td>\n",
              "      <td>11.290761</td>\n",
              "      <td>29.984624</td>\n",
              "      <td>10.095871</td>\n",
              "      <td>-4.937179</td>\n",
              "      <td>-32.413266</td>\n",
              "      <td>22.760065</td>\n",
              "      <td>2.682933</td>\n",
              "      <td>0.033536</td>\n",
              "      <td>1.090502</td>\n",
              "      <td>0.006083</td>\n",
              "    </tr>\n",
              "    <tr>\n",
              "      <th>2</th>\n",
              "      <td>1999-05-01 00:04:00</td>\n",
              "      <td>0</td>\n",
              "      <td>0.363848</td>\n",
              "      <td>-4.681394</td>\n",
              "      <td>-4.353147</td>\n",
              "      <td>14.127997</td>\n",
              "      <td>-0.138636</td>\n",
              "      <td>-17.836632</td>\n",
              "      <td>0.010803</td>\n",
              "      <td>-0.061114</td>\n",
              "      <td>...</td>\n",
              "      <td>11.286366</td>\n",
              "      <td>29.984624</td>\n",
              "      <td>10.100265</td>\n",
              "      <td>-4.937924</td>\n",
              "      <td>-34.183774</td>\n",
              "      <td>27.004663</td>\n",
              "      <td>3.537487</td>\n",
              "      <td>0.033629</td>\n",
              "      <td>1.840540</td>\n",
              "      <td>0.006090</td>\n",
              "    </tr>\n",
              "    <tr>\n",
              "      <th>3</th>\n",
              "      <td>1999-05-01 00:06:00</td>\n",
              "      <td>0</td>\n",
              "      <td>0.301590</td>\n",
              "      <td>-4.758934</td>\n",
              "      <td>-4.023612</td>\n",
              "      <td>13.161566</td>\n",
              "      <td>-0.148142</td>\n",
              "      <td>-18.517601</td>\n",
              "      <td>0.002075</td>\n",
              "      <td>-0.061114</td>\n",
              "      <td>...</td>\n",
              "      <td>11.281972</td>\n",
              "      <td>29.984624</td>\n",
              "      <td>10.104660</td>\n",
              "      <td>-4.938669</td>\n",
              "      <td>-35.954281</td>\n",
              "      <td>21.672449</td>\n",
              "      <td>3.986095</td>\n",
              "      <td>0.033721</td>\n",
              "      <td>2.554880</td>\n",
              "      <td>0.006097</td>\n",
              "    </tr>\n",
              "    <tr>\n",
              "      <th>4</th>\n",
              "      <td>1999-05-01 00:08:00</td>\n",
              "      <td>0</td>\n",
              "      <td>0.265578</td>\n",
              "      <td>-4.749928</td>\n",
              "      <td>-4.333150</td>\n",
              "      <td>15.267340</td>\n",
              "      <td>-0.155314</td>\n",
              "      <td>-17.505913</td>\n",
              "      <td>0.000732</td>\n",
              "      <td>-0.061114</td>\n",
              "      <td>...</td>\n",
              "      <td>11.277577</td>\n",
              "      <td>29.984624</td>\n",
              "      <td>10.109054</td>\n",
              "      <td>-4.939414</td>\n",
              "      <td>-37.724789</td>\n",
              "      <td>21.907251</td>\n",
              "      <td>3.601573</td>\n",
              "      <td>0.033777</td>\n",
              "      <td>1.410494</td>\n",
              "      <td>0.006105</td>\n",
              "    </tr>\n",
              "  </tbody>\n",
              "</table>\n",
              "<p>5 rows × 61 columns</p>\n",
              "</div>\n",
              "    <div class=\"colab-df-buttons\">\n",
              "\n",
              "  <div class=\"colab-df-container\">\n",
              "    <button class=\"colab-df-convert\" onclick=\"convertToInteractive('df-65311ab4-af98-495c-8e74-2d13dc910ca6')\"\n",
              "            title=\"Convert this dataframe to an interactive table.\"\n",
              "            style=\"display:none;\">\n",
              "\n",
              "  <svg xmlns=\"http://www.w3.org/2000/svg\" height=\"24px\" viewBox=\"0 -960 960 960\">\n",
              "    <path d=\"M120-120v-720h720v720H120Zm60-500h600v-160H180v160Zm220 220h160v-160H400v160Zm0 220h160v-160H400v160ZM180-400h160v-160H180v160Zm440 0h160v-160H620v160ZM180-180h160v-160H180v160Zm440 0h160v-160H620v160Z\"/>\n",
              "  </svg>\n",
              "    </button>\n",
              "\n",
              "  <style>\n",
              "    .colab-df-container {\n",
              "      display:flex;\n",
              "      gap: 12px;\n",
              "    }\n",
              "\n",
              "    .colab-df-convert {\n",
              "      background-color: #E8F0FE;\n",
              "      border: none;\n",
              "      border-radius: 50%;\n",
              "      cursor: pointer;\n",
              "      display: none;\n",
              "      fill: #1967D2;\n",
              "      height: 32px;\n",
              "      padding: 0 0 0 0;\n",
              "      width: 32px;\n",
              "    }\n",
              "\n",
              "    .colab-df-convert:hover {\n",
              "      background-color: #E2EBFA;\n",
              "      box-shadow: 0px 1px 2px rgba(60, 64, 67, 0.3), 0px 1px 3px 1px rgba(60, 64, 67, 0.15);\n",
              "      fill: #174EA6;\n",
              "    }\n",
              "\n",
              "    .colab-df-buttons div {\n",
              "      margin-bottom: 4px;\n",
              "    }\n",
              "\n",
              "    [theme=dark] .colab-df-convert {\n",
              "      background-color: #3B4455;\n",
              "      fill: #D2E3FC;\n",
              "    }\n",
              "\n",
              "    [theme=dark] .colab-df-convert:hover {\n",
              "      background-color: #434B5C;\n",
              "      box-shadow: 0px 1px 3px 1px rgba(0, 0, 0, 0.15);\n",
              "      filter: drop-shadow(0px 1px 2px rgba(0, 0, 0, 0.3));\n",
              "      fill: #FFFFFF;\n",
              "    }\n",
              "  </style>\n",
              "\n",
              "    <script>\n",
              "      const buttonEl =\n",
              "        document.querySelector('#df-65311ab4-af98-495c-8e74-2d13dc910ca6 button.colab-df-convert');\n",
              "      buttonEl.style.display =\n",
              "        google.colab.kernel.accessAllowed ? 'block' : 'none';\n",
              "\n",
              "      async function convertToInteractive(key) {\n",
              "        const element = document.querySelector('#df-65311ab4-af98-495c-8e74-2d13dc910ca6');\n",
              "        const dataTable =\n",
              "          await google.colab.kernel.invokeFunction('convertToInteractive',\n",
              "                                                    [key], {});\n",
              "        if (!dataTable) return;\n",
              "\n",
              "        const docLinkHtml = 'Like what you see? Visit the ' +\n",
              "          '<a target=\"_blank\" href=https://colab.research.google.com/notebooks/data_table.ipynb>data table notebook</a>'\n",
              "          + ' to learn more about interactive tables.';\n",
              "        element.innerHTML = '';\n",
              "        dataTable['output_type'] = 'display_data';\n",
              "        await google.colab.output.renderOutput(dataTable, element);\n",
              "        const docLink = document.createElement('div');\n",
              "        docLink.innerHTML = docLinkHtml;\n",
              "        element.appendChild(docLink);\n",
              "      }\n",
              "    </script>\n",
              "  </div>\n",
              "\n",
              "\n",
              "<div id=\"df-653eea7f-c35b-499f-812d-0bc1d8b3b066\">\n",
              "  <button class=\"colab-df-quickchart\" onclick=\"quickchart('df-653eea7f-c35b-499f-812d-0bc1d8b3b066')\"\n",
              "            title=\"Suggest charts\"\n",
              "            style=\"display:none;\">\n",
              "\n",
              "<svg xmlns=\"http://www.w3.org/2000/svg\" height=\"24px\"viewBox=\"0 0 24 24\"\n",
              "     width=\"24px\">\n",
              "    <g>\n",
              "        <path d=\"M19 3H5c-1.1 0-2 .9-2 2v14c0 1.1.9 2 2 2h14c1.1 0 2-.9 2-2V5c0-1.1-.9-2-2-2zM9 17H7v-7h2v7zm4 0h-2V7h2v10zm4 0h-2v-4h2v4z\"/>\n",
              "    </g>\n",
              "</svg>\n",
              "  </button>\n",
              "\n",
              "<style>\n",
              "  .colab-df-quickchart {\n",
              "      --bg-color: #E8F0FE;\n",
              "      --fill-color: #1967D2;\n",
              "      --hover-bg-color: #E2EBFA;\n",
              "      --hover-fill-color: #174EA6;\n",
              "      --disabled-fill-color: #AAA;\n",
              "      --disabled-bg-color: #DDD;\n",
              "  }\n",
              "\n",
              "  [theme=dark] .colab-df-quickchart {\n",
              "      --bg-color: #3B4455;\n",
              "      --fill-color: #D2E3FC;\n",
              "      --hover-bg-color: #434B5C;\n",
              "      --hover-fill-color: #FFFFFF;\n",
              "      --disabled-bg-color: #3B4455;\n",
              "      --disabled-fill-color: #666;\n",
              "  }\n",
              "\n",
              "  .colab-df-quickchart {\n",
              "    background-color: var(--bg-color);\n",
              "    border: none;\n",
              "    border-radius: 50%;\n",
              "    cursor: pointer;\n",
              "    display: none;\n",
              "    fill: var(--fill-color);\n",
              "    height: 32px;\n",
              "    padding: 0;\n",
              "    width: 32px;\n",
              "  }\n",
              "\n",
              "  .colab-df-quickchart:hover {\n",
              "    background-color: var(--hover-bg-color);\n",
              "    box-shadow: 0 1px 2px rgba(60, 64, 67, 0.3), 0 1px 3px 1px rgba(60, 64, 67, 0.15);\n",
              "    fill: var(--button-hover-fill-color);\n",
              "  }\n",
              "\n",
              "  .colab-df-quickchart-complete:disabled,\n",
              "  .colab-df-quickchart-complete:disabled:hover {\n",
              "    background-color: var(--disabled-bg-color);\n",
              "    fill: var(--disabled-fill-color);\n",
              "    box-shadow: none;\n",
              "  }\n",
              "\n",
              "  .colab-df-spinner {\n",
              "    border: 2px solid var(--fill-color);\n",
              "    border-color: transparent;\n",
              "    border-bottom-color: var(--fill-color);\n",
              "    animation:\n",
              "      spin 1s steps(1) infinite;\n",
              "  }\n",
              "\n",
              "  @keyframes spin {\n",
              "    0% {\n",
              "      border-color: transparent;\n",
              "      border-bottom-color: var(--fill-color);\n",
              "      border-left-color: var(--fill-color);\n",
              "    }\n",
              "    20% {\n",
              "      border-color: transparent;\n",
              "      border-left-color: var(--fill-color);\n",
              "      border-top-color: var(--fill-color);\n",
              "    }\n",
              "    30% {\n",
              "      border-color: transparent;\n",
              "      border-left-color: var(--fill-color);\n",
              "      border-top-color: var(--fill-color);\n",
              "      border-right-color: var(--fill-color);\n",
              "    }\n",
              "    40% {\n",
              "      border-color: transparent;\n",
              "      border-right-color: var(--fill-color);\n",
              "      border-top-color: var(--fill-color);\n",
              "    }\n",
              "    60% {\n",
              "      border-color: transparent;\n",
              "      border-right-color: var(--fill-color);\n",
              "    }\n",
              "    80% {\n",
              "      border-color: transparent;\n",
              "      border-right-color: var(--fill-color);\n",
              "      border-bottom-color: var(--fill-color);\n",
              "    }\n",
              "    90% {\n",
              "      border-color: transparent;\n",
              "      border-bottom-color: var(--fill-color);\n",
              "    }\n",
              "  }\n",
              "</style>\n",
              "\n",
              "  <script>\n",
              "    async function quickchart(key) {\n",
              "      const quickchartButtonEl =\n",
              "        document.querySelector('#' + key + ' button');\n",
              "      quickchartButtonEl.disabled = true;  // To prevent multiple clicks.\n",
              "      quickchartButtonEl.classList.add('colab-df-spinner');\n",
              "      try {\n",
              "        const charts = await google.colab.kernel.invokeFunction(\n",
              "            'suggestCharts', [key], {});\n",
              "      } catch (error) {\n",
              "        console.error('Error during call to suggestCharts:', error);\n",
              "      }\n",
              "      quickchartButtonEl.classList.remove('colab-df-spinner');\n",
              "      quickchartButtonEl.classList.add('colab-df-quickchart-complete');\n",
              "    }\n",
              "    (() => {\n",
              "      let quickchartButtonEl =\n",
              "        document.querySelector('#df-653eea7f-c35b-499f-812d-0bc1d8b3b066 button');\n",
              "      quickchartButtonEl.style.display =\n",
              "        google.colab.kernel.accessAllowed ? 'block' : 'none';\n",
              "    })();\n",
              "  </script>\n",
              "</div>\n",
              "\n",
              "    </div>\n",
              "  </div>\n"
            ],
            "application/vnd.google.colaboratory.intrinsic+json": {
              "type": "dataframe",
              "variable_name": "data_cleaned"
            }
          },
          "metadata": {},
          "execution_count": 15
        }
      ]
    },
    {
      "cell_type": "code",
      "source": [
        "# Plot the distribution of the target variable\n",
        "plt.figure(figsize=(6, 4))\n",
        "sns.histplot(data_cleaned['y'])\n",
        "plt.title('Distribution of Target Variable (y)')\n",
        "plt.xlabel('Anomaly')\n",
        "plt.ylabel('Count')\n",
        "plt.show()\n",
        "\n"
      ],
      "metadata": {
        "colab": {
          "base_uri": "https://localhost:8080/",
          "height": 410
        },
        "collapsed": true,
        "id": "c_dyFIyXRfL8",
        "outputId": "673a1522-1642-445f-c3d9-80970416cc7b"
      },
      "execution_count": null,
      "outputs": [
        {
          "output_type": "display_data",
          "data": {
            "text/plain": [
              "<Figure size 600x400 with 1 Axes>"
            ],
            "image/png": "[encoded data removed]"
          },
          "metadata": {}
        }
      ]
    },
    {
      "cell_type": "code",
      "source": [
        "# Plot histograms for the first few predictors to understand their distribution\n",
        "data_cleaned.iloc[:, 2:8].hist(figsize=(12, 10), bins=20)\n",
        "plt.suptitle('Distribution of Predictors')\n",
        "plt.show()"
      ],
      "metadata": {
        "colab": {
          "base_uri": "https://localhost:8080/",
          "height": 950
        },
        "collapsed": true,
        "id": "N9i46mauSo3F",
        "outputId": "8f2f0e3e-6b64-4a0c-bc5a-934967e77d6c"
      },
      "execution_count": null,
      "outputs": [
        {
          "output_type": "display_data",
          "data": {
            "text/plain": [
              "<Figure size 1200x1000 with 6 Axes>"
            ],
            "image/png": "[encoded data removed]"
          },
          "metadata": {}
        }
      ]
    },
    {
      "cell_type": "code",
      "source": [
        "data_cleaned.columns"
      ],
      "metadata": {
        "colab": {
          "base_uri": "https://localhost:8080/"
        },
        "id": "NnuBHLZ9lFXA",
        "outputId": "f8b20e5d-a15f-4a54-d77b-135fb40b2d70"
      },
      "execution_count": null,
      "outputs": [
        {
          "output_type": "execute_result",
          "data": {
            "text/plain": [
              "Index(['y', 'x1', 'x2', 'x3', 'x4', 'x5', 'x6', 'x7', 'x8', 'x9', 'x10', 'x11',\n",
              "       'x12', 'x13', 'x14', 'x15', 'x16', 'x17', 'x18', 'x19', 'x20', 'x21',\n",
              "       'x22', 'x23', 'x24', 'x25', 'x26', 'x27', 'x28', 'x29', 'x30', 'x31',\n",
              "       'x32', 'x33', 'x34', 'x35', 'x36', 'x37', 'x38', 'x39', 'x40', 'x41',\n",
              "       'x42', 'x43', 'x44', 'x45', 'x46', 'x47', 'x48', 'x49', 'x50', 'x51',\n",
              "       'x52', 'x54', 'x55', 'x56', 'x57', 'x58', 'x59', 'x60'],\n",
              "      dtype='object')"
            ]
          },
          "metadata": {},
          "execution_count": 68
        }
      ]
    },
    {
      "cell_type": "markdown",
      "source": [
        "**Splitting the original data set using stratified shuffle split**"
      ],
      "metadata": {
        "id": "TcyE2MReXHeh"
      }
    },
    {
      "cell_type": "code",
      "source": [
        "# splitting the data into training and testing data\n",
        "from sklearn.model_selection import train_test_split, StratifiedShuffleSplit\n",
        "\n",
        "X = data_cleaned.drop('y', axis = 1)\n",
        "\n",
        "y = data_cleaned['y']\n",
        "\n",
        "sss = StratifiedKFold(n_splits= 5, random_state = None, shuffle = False )\n",
        "\n",
        "for train_index, test_index in sss.split (X,y):\n",
        "  print('Train: ', train_index, 'Test : ', test_index)\n",
        "  original_Xtrain, original_Xtest = X.iloc[train_index], X.iloc[test_index]\n",
        "  original_ytrain, original_ytest = y.iloc[train_index], y.iloc[test_index]\n",
        "\n",
        "original_Xtrain = original_Xtrain.values\n",
        "original_Xtest = original_Xtest.values\n",
        "original_ytrain = original_ytrain.values\n",
        "original_ytest = original_ytest.values\n",
        "\n",
        "# checking the train and test label distribution\n",
        "\n",
        "train_unique_label , train_counts_label = np.unique(original_ytrain, return_counts = True)\n",
        "test_unique_label, test_counts_label = np.unique(original_ytest, return_counts = True)\n",
        "\n",
        "print(train_counts_label/len(original_ytrain))\n",
        "print(test_counts_label/len(original_ytest))"
      ],
      "metadata": {
        "colab": {
          "base_uri": "https://localhost:8080/"
        },
        "id": "OrOk3oB6VUqZ",
        "outputId": "908a76c2-8923-4c6a-d1f4-b2a0a8103ff6"
      },
      "execution_count": null,
      "outputs": [
        {
          "output_type": "stream",
          "name": "stdout",
          "text": [
            "Train:  [ 3675  3676  3677 ... 18395 18396 18397] Test :  [   0    1    2 ... 4079 4132 4277]\n",
            "Train:  [    0     1     2 ... 18395 18396 18397] Test :  [3675 3676 3677 ... 7357 7446 7475]\n",
            "Train:  [    0     1     2 ... 18395 18396 18397] Test :  [ 7358  7359  7360 ... 11044 11045 11046]\n",
            "Train:  [    0     1     2 ... 18395 18396 18397] Test :  [10631 10684 10702 ... 14716 14717 15475]\n",
            "Train:  [    0     1     2 ... 14716 14717 15475] Test :  [14718 14719 14720 ... 18395 18396 18397]\n",
            "[0.993274 0.006726]\n",
            "[0.99320468 0.00679532]\n"
          ]
        }
      ]
    },
    {
      "cell_type": "markdown",
      "source": [
        "**Forming new dataframe with equal class distribution**"
      ],
      "metadata": {
        "id": "N64jk2HmXPeh"
      }
    },
    {
      "cell_type": "code",
      "source": [
        "data_cleaned = data_cleaned.sample(frac =1) # shuffling the rows of the original dataframe to remove the order\n",
        "\n",
        "anamoly_data = data_cleaned.loc[data_cleaned['y'] == 1]   #\n",
        "normal_data = data_cleaned.loc[data_cleaned['y'] == 0][:125]\n",
        "\n",
        "\n",
        "normal_distributed_df = pd.concat([anamoly_data, normal_data]) # form a new data distribution\n",
        "\n",
        "new_df = normal_distributed_df.sample(frac = 1, random_state = 42)"
      ],
      "metadata": {
        "id": "KxbdWc4zXE_U"
      },
      "execution_count": null,
      "outputs": []
    },
    {
      "cell_type": "code",
      "source": [
        "new_df.columns"
      ],
      "metadata": {
        "colab": {
          "base_uri": "https://localhost:8080/"
        },
        "id": "aG6tv1TFldQ0",
        "outputId": "f3441376-557a-4b1b-dffa-f621f1996bb6"
      },
      "execution_count": null,
      "outputs": [
        {
          "output_type": "execute_result",
          "data": {
            "text/plain": [
              "Index(['y', 'x1', 'x2', 'x3', 'x4', 'x5', 'x6', 'x7', 'x8', 'x9', 'x10', 'x11',\n",
              "       'x12', 'x13', 'x14', 'x15', 'x16', 'x17', 'x18', 'x19', 'x20', 'x21',\n",
              "       'x22', 'x23', 'x24', 'x25', 'x26', 'x27', 'x28', 'x29', 'x30', 'x31',\n",
              "       'x32', 'x33', 'x34', 'x35', 'x36', 'x37', 'x38', 'x39', 'x40', 'x41',\n",
              "       'x42', 'x43', 'x44', 'x45', 'x46', 'x47', 'x48', 'x49', 'x50', 'x51',\n",
              "       'x52', 'x54', 'x55', 'x56', 'x57', 'x58', 'x59', 'x60'],\n",
              "      dtype='object')"
            ]
          },
          "metadata": {},
          "execution_count": 92
        }
      ]
    },
    {
      "cell_type": "code",
      "source": [
        "print('Distribution of the Classes in the subsample dataset')\n",
        "print(new_df['y'].value_counts()/len(new_df))"
      ],
      "metadata": {
        "colab": {
          "base_uri": "https://localhost:8080/"
        },
        "id": "9oWHwZzmZXnQ",
        "outputId": "f644dc99-93e9-4ea5-ff6f-04376d35cb52"
      },
      "execution_count": null,
      "outputs": [
        {
          "output_type": "stream",
          "name": "stdout",
          "text": [
            "Distribution of the Classes in the subsample dataset\n",
            "y\n",
            "0    0.502008\n",
            "1    0.497992\n",
            "Name: count, dtype: float64\n"
          ]
        }
      ]
    },
    {
      "cell_type": "code",
      "source": [
        "green_color = '#32CD32'\n",
        "red_color = \"#FF6347\"\n",
        "colors = [green_color, red_color]\n",
        "sns.countplot(x = 'y', data = new_df, palette = [green_color, red_color])\n",
        "plt.title('Equally distributed data', fontsize = 14)\n",
        "plt.show()"
      ],
      "metadata": {
        "colab": {
          "base_uri": "https://localhost:8080/",
          "height": 806
        },
        "collapsed": true,
        "id": "Se5vkS7IZ2mt",
        "outputId": "ebdb48ed-e473-4bed-d246-a38bafacc92e"
      },
      "execution_count": null,
      "outputs": [
        {
          "output_type": "stream",
          "name": "stderr",
          "text": [
            "<ipython-input-94-1e44c231663f>:4: FutureWarning: \n",
            "\n",
            "Passing `palette` without assigning `hue` is deprecated and will be removed in v0.14.0. Assign the `x` variable to `hue` and set `legend=False` for the same effect.\n",
            "\n",
            "  sns.countplot(x = 'y', data = new_df, palette = [green_color, red_color])\n"
          ]
        },
        {
          "output_type": "display_data",
          "data": {
            "text/plain": [
              "<Figure size 1400x800 with 1 Axes>"
            ],
            "image/png": "[encoded data removed]"
          },
          "metadata": {}
        }
      ]
    },
    {
      "cell_type": "code",
      "source": [
        "f, (ax1, ax2) = plt.subplots(1,2, figsize = (24,20))\n",
        "\n",
        "# entire data frame\n",
        "corr = data_cleaned.corr()\n",
        "sns.heatmap(corr, cmap = 'viridis', annot_kws = {'size': 20}, ax = ax1)\n",
        "ax1.set_title(\"Imbalanced Correlation Matrix\", fontsize=14)\n",
        "\n",
        "sub_sample_corr = new_df.corr()\n",
        "sns.heatmap(sub_sample_corr, cmap = 'inferno', annot_kws = {'size': 20}, ax = ax2)\n",
        "ax2.set_title('SubSample Correlation Matrix', fontsize = 14)"
      ],
      "metadata": {
        "colab": {
          "base_uri": "https://localhost:8080/",
          "height": 1000
        },
        "collapsed": true,
        "id": "scFmSReWahZG",
        "outputId": "4b15af2d-f158-436d-e2e1-fc7f5f47b79f"
      },
      "execution_count": null,
      "outputs": [
        {
          "output_type": "execute_result",
          "data": {
            "text/plain": [
              "Text(0.5, 1.0, 'SubSample Correlation Matrix')"
            ]
          },
          "metadata": {},
          "execution_count": 95
        },
        {
          "output_type": "display_data",
          "data": {
            "text/plain": [
              "<Figure size 2400x2000 with 4 Axes>"
            ],
            "image/png": "[encoded data removed]"
          },
          "metadata": {}
        }
      ]
    },
    {
      "cell_type": "code",
      "source": [
        "# Check for class imbalance\n",
        "class_counts = data_cleaned['y'].value_counts()\n",
        "\n",
        "\n",
        "# Display results\n",
        "class_counts, corr['y'].sort_values(ascending=False).head(10)\n"
      ],
      "metadata": {
        "colab": {
          "base_uri": "https://localhost:8080/"
        },
        "id": "4pfGD9ShcRCD",
        "outputId": "cda746d9-375f-4662-980c-83276e051502"
      },
      "execution_count": null,
      "outputs": [
        {
          "output_type": "execute_result",
          "data": {
            "text/plain": [
              "(y\n",
              " 0    18274\n",
              " 1      124\n",
              " Name: count, dtype: int64,\n",
              " y      1.000000\n",
              " x15    0.058647\n",
              " x42    0.034149\n",
              " x9     0.024217\n",
              " x24    0.023117\n",
              " x7     0.018346\n",
              " x4     0.016792\n",
              " x60    0.016083\n",
              " x21    0.015817\n",
              " x46    0.012870\n",
              " Name: y, dtype: float64)"
            ]
          },
          "metadata": {},
          "execution_count": 85
        }
      ]
    },
    {
      "cell_type": "code",
      "source": [
        "# Check for class imbalance\n",
        "newdf_class_counts = new_df['y'].value_counts()\n",
        "\n",
        "\n",
        "# Display results\n",
        "newdf_class_counts, sub_sample_corr['y'].sort_values(ascending=False).head(10)\n"
      ],
      "metadata": {
        "colab": {
          "base_uri": "https://localhost:8080/"
        },
        "id": "wYttnH7cdV7e",
        "outputId": "4ab558bf-4996-483a-cbd2-0279e3acfc22"
      },
      "execution_count": null,
      "outputs": [
        {
          "output_type": "execute_result",
          "data": {
            "text/plain": [
              "(y\n",
              " 0    125\n",
              " 1    124\n",
              " Name: count, dtype: int64,\n",
              " y      1.000000\n",
              " x42    0.234159\n",
              " x9     0.158096\n",
              " x21    0.151595\n",
              " x60    0.142779\n",
              " x58    0.122384\n",
              " x38    0.120950\n",
              " x1     0.120409\n",
              " x24    0.115736\n",
              " x7     0.104853\n",
              " Name: y, dtype: float64)"
            ]
          },
          "metadata": {},
          "execution_count": 86
        }
      ]
    },
    {
      "cell_type": "code",
      "source": [
        "X = new_df.drop('y', axis=1)\n",
        "\n",
        "y = new_df['y']"
      ],
      "metadata": {
        "id": "Iafpw6VtdRDw"
      },
      "execution_count": null,
      "outputs": []
    },
    {
      "cell_type": "code",
      "source": [
        "X_train, X_test, y_train, y_test = train_test_split(X, y, test_size=0.2, random_state=42)"
      ],
      "metadata": {
        "id": "YvG5k1kPf9GB"
      },
      "execution_count": null,
      "outputs": []
    },
    {
      "cell_type": "code",
      "source": [
        "X_train = X_train.values\n",
        "X_test = X_test.values\n",
        "y_train = y_train.values\n",
        "y_test = y_test.values"
      ],
      "metadata": {
        "id": "cty8pR_3f_7D"
      },
      "execution_count": null,
      "outputs": []
    },
    {
      "cell_type": "code",
      "source": [
        "print(type(X_train))"
      ],
      "metadata": {
        "colab": {
          "base_uri": "https://localhost:8080/"
        },
        "id": "0zklwZrbia9w",
        "outputId": "d296a5fe-fd99-4a20-90dc-ea98ca3ae586"
      },
      "execution_count": null,
      "outputs": [
        {
          "output_type": "stream",
          "name": "stdout",
          "text": [
            "<class 'numpy.ndarray'>\n"
          ]
        }
      ]
    },
    {
      "cell_type": "code",
      "source": [],
      "metadata": {
        "id": "joeom6bupezt"
      },
      "execution_count": null,
      "outputs": []
    },
    {
      "cell_type": "code",
      "source": [
        "X_train.shape"
      ],
      "metadata": {
        "colab": {
          "base_uri": "https://localhost:8080/"
        },
        "id": "qs3J5q5vgLb7",
        "outputId": "b49a76ad-1995-4983-ead0-3484a1d02b0d"
      },
      "execution_count": null,
      "outputs": [
        {
          "output_type": "execute_result",
          "data": {
            "text/plain": [
              "(199, 59)"
            ]
          },
          "metadata": {},
          "execution_count": 100
        }
      ]
    },
    {
      "cell_type": "code",
      "source": [
        "rf = RandomForestClassifier()\n",
        "rf.fit(X_train, y_train)\n",
        "train_score = cross_val_score(rf, X_train, y_train, cv = 5)\n",
        "print(round(train_score.mean(), 2) * 100, \"% accuracy score\")"
      ],
      "metadata": {
        "colab": {
          "base_uri": "https://localhost:8080/"
        },
        "id": "DxW1neVEgNKP",
        "outputId": "c93bf832-1e90-4bfa-abb6-3fbe6937f7c5"
      },
      "execution_count": null,
      "outputs": [
        {
          "output_type": "stream",
          "name": "stdout",
          "text": [
            "89.0 % accuracy score\n"
          ]
        }
      ]
    },
    {
      "cell_type": "markdown",
      "source": [
        "**Finding the best estimator using GridSearchCV**"
      ],
      "metadata": {
        "id": "8SgMnzT6p8JS"
      }
    },
    {
      "cell_type": "code",
      "source": [
        "# Random Forest Classifier\n",
        "rf_params = {\n",
        "    \"n_estimators\": [50, 100, 200],\n",
        "    \"criterion\": [\"gini\", \"entropy\"],\n",
        "    \"max_depth\": [None, 10, 20, 30],\n",
        "    \"min_samples_split\": [2, 5, 10],\n",
        "    \"min_samples_leaf\": [1, 2, 4],\n",
        "    \"bootstrap\": [True, False]\n",
        "}\n",
        "grid_rf = GridSearchCV(RandomForestClassifier(), rf_params)\n",
        "grid_rf.fit(X_train, y_train)\n",
        "# Random Forest best estimator\n",
        "rf_clf = grid_rf.best_estimator_"
      ],
      "metadata": {
        "id": "cxN80NYzhrhs"
      },
      "execution_count": null,
      "outputs": []
    },
    {
      "cell_type": "code",
      "source": [
        "random_forest_score = cross_val_score(rf_clf, X_train, y_train, cv=5)\n",
        "random_forest_score = round(random_forest_score.mean() * 100, 2)\n",
        "print('Random Forest Classifier - CV Score:', random_forest_score )"
      ],
      "metadata": {
        "colab": {
          "base_uri": "https://localhost:8080/"
        },
        "id": "CAhN0aRWqDcS",
        "outputId": "c736af1b-3be2-4efe-a89f-42e19d7d9a2b"
      },
      "execution_count": null,
      "outputs": [
        {
          "output_type": "stream",
          "name": "stdout",
          "text": [
            "Random Forest Classifier - CV Score: 88.44\n"
          ]
        }
      ]
    },
    {
      "cell_type": "code",
      "source": [
        "rf_pred = cross_val_predict(rf_clf, X_train, y_train, cv=5)\n",
        "print('ROC AUC Score Random Forest Classifier:',roc_auc_score(y_train, rf_pred))"
      ],
      "metadata": {
        "colab": {
          "base_uri": "https://localhost:8080/"
        },
        "id": "MZ7-OSl-qKGD",
        "outputId": "1693d4ef-463c-4912-8a77-b142dfdd8330"
      },
      "execution_count": null,
      "outputs": [
        {
          "output_type": "stream",
          "name": "stdout",
          "text": [
            "ROC AUC Score Random Forest Classifier: 0.8923948220064726\n"
          ]
        }
      ]
    },
    {
      "cell_type": "code",
      "source": [
        "# Calculate evaluation metrics\n",
        "accuracy_train = accuracy_score(y_train, rf_pred)\n",
        "roc_auc_train = roc_auc_score(y_train, rf_pred)\n",
        "recall_train = recall_score(y_train, rf_pred)\n",
        "precision_train = precision_score(y_train, rf_pred)\n",
        "f1_train = f1_score(y_train, rf_pred)\n",
        "conf_matrix_train = confusion_matrix(y_train, rf_pred)\n",
        "\n",
        "# Print evaluation metrics\n",
        "print(\"Accuracy Score:\", accuracy_train)\n",
        "print(\"ROC AUC Score:\", roc_auc_train)\n",
        "print(\"Recall Score:\", recall_train)\n",
        "print(\"Precision Score:\", precision_train)\n",
        "print(\"F1 Score:\", f1_train)\n",
        "print(\"Confusion Matrix:\")\n",
        "print(conf_matrix_train)\n",
        "print(classification_report(y_train, rf_pred))"
      ],
      "metadata": {
        "colab": {
          "base_uri": "https://localhost:8080/"
        },
        "id": "Uulm5J5qqXAn",
        "outputId": "9ec3e0a2-d5c0-423b-e0f3-dc7d8e2ce3d9"
      },
      "execution_count": null,
      "outputs": [
        {
          "output_type": "stream",
          "name": "stdout",
          "text": [
            "Accuracy Score: 0.8944723618090452\n",
            "ROC AUC Score: 0.8923948220064726\n",
            "Recall Score: 0.8333333333333334\n",
            "Precision Score: 0.9411764705882353\n",
            "F1 Score: 0.8839779005524863\n",
            "Confusion Matrix:\n",
            "[[98  5]\n",
            " [16 80]]\n",
            "              precision    recall  f1-score   support\n",
            "\n",
            "           0       0.86      0.95      0.90       103\n",
            "           1       0.94      0.83      0.88        96\n",
            "\n",
            "    accuracy                           0.89       199\n",
            "   macro avg       0.90      0.89      0.89       199\n",
            "weighted avg       0.90      0.89      0.89       199\n",
            "\n"
          ]
        }
      ]
    },
    {
      "cell_type": "code",
      "source": [
        "plt.figure(figsize=(4, 4))\n",
        "sns.heatmap(conf_matrix_train, annot=True, cmap=\"Blues\", fmt=\"d\", cbar=False)\n",
        "plt.title(\"Confusion Matrix\")\n",
        "plt.xlabel(\"Predicted Labels\")\n",
        "plt.ylabel(\"True Labels\")\n",
        "plt.show()"
      ],
      "metadata": {
        "colab": {
          "base_uri": "https://localhost:8080/",
          "height": 410
        },
        "id": "tH8CJzadqwfj",
        "outputId": "8d40833f-6cc6-4e71-a7f0-ae08cb7e1da3"
      },
      "execution_count": null,
      "outputs": [
        {
          "output_type": "display_data",
          "data": {
            "text/plain": [
              "<Figure size 400x400 with 1 Axes>"
            ],
            "image/png": "[encoded data removed]"
          },
          "metadata": {}
        }
      ]
    },
    {
      "cell_type": "code",
      "source": [
        "rf_pred_test = rf_clf.predict(X_test)\n",
        "\n",
        "# Calculate evaluation metrics\n",
        "accuracy_test = accuracy_score(y_test, rf_pred_test)\n",
        "roc_auc_test = roc_auc_score(y_test, rf_pred_test)\n",
        "recall_test = recall_score(y_test, rf_pred_test)\n",
        "precision_test = precision_score(y_test, rf_pred_test)\n",
        "f1_test = f1_score(y_test, rf_pred_test)\n",
        "conf_matrix_test = confusion_matrix(y_test, rf_pred_test)\n",
        "\n",
        "print(\"Accuracy Score:\", accuracy_test)\n",
        "print(\"ROC AUC Score:\", roc_auc_test)\n",
        "print(\"Recall Score:\", recall_test)\n",
        "print(\"Precision Score:\", precision_test)\n",
        "print(\"F1 Score:\", f1_test)\n",
        "print(\"Confusion Matrix:\")\n",
        "print(conf_matrix_test)\n",
        "\n",
        "\n",
        "plt.figure(figsize=(4, 4))\n",
        "sns.heatmap(conf_matrix_test, annot=True, cmap=\"Blues\", fmt=\"d\", cbar=False)\n",
        "plt.title(\"Confusion Matrix\")\n",
        "plt.xlabel(\"Predicted Labels\")\n",
        "plt.ylabel(\"True Labels\")\n",
        "plt.show()"
      ],
      "metadata": {
        "colab": {
          "base_uri": "https://localhost:8080/",
          "height": 549
        },
        "id": "wJMzicqGq39J",
        "outputId": "9bf84fcb-fac5-4424-b53b-d456f94f607b"
      },
      "execution_count": null,
      "outputs": [
        {
          "output_type": "stream",
          "name": "stdout",
          "text": [
            "Accuracy Score: 0.92\n",
            "ROC AUC Score: 0.9237012987012987\n",
            "Recall Score: 0.8928571428571429\n",
            "Precision Score: 0.9615384615384616\n",
            "F1 Score: 0.9259259259259259\n",
            "Confusion Matrix:\n",
            "[[21  1]\n",
            " [ 3 25]]\n"
          ]
        },
        {
          "output_type": "display_data",
          "data": {
            "text/plain": [
              "<Figure size 400x400 with 1 Axes>"
            ],
            "image/png": "[encoded data removed]"
          },
          "metadata": {}
        }
      ]
    },
    {
      "cell_type": "code",
      "source": [
        "from imblearn.over_sampling import SMOTE\n",
        "import seaborn as sns\n",
        "\n",
        "# Before OverSampling\n",
        "print(\"Initial '1' labels count in y_train: \", sum(original_ytrain==1))\n",
        "print(\"Initial '0' labels count in y_train: \", sum(original_ytrain==0))\n",
        "\n",
        "# Applying SMOTE\n",
        "sm = SMOTE(random_state=2)\n",
        "x_train_s, y_train_s = sm.fit_resample(original_Xtrain, original_ytrain.ravel())\n",
        "\n",
        "# After OverSampling\n",
        "print(\"Shape of train_x after OverSampling: \", x_train_s.shape)\n",
        "print(\"Shape of train_y after OverSampling: \", y_train_s.shape)\n",
        "\n",
        "print(\"Percentage of '1' labels after OverSampling: {:.2f}%\".format(sum(y_train_s==1)/len(y_train_s)*100))\n",
        "print(\"Percentage of '0' labels after OverSampling: {:.2f}%\".format(sum(y_train_s==0)/len(y_train_s)*100))\n",
        "\n",
        "# Visualizing the distribution with a different palette\n",
        "sns.countplot(x=y_train_s, palette='Set2')"
      ],
      "metadata": {
        "colab": {
          "base_uri": "https://localhost:8080/",
          "height": 611
        },
        "id": "-OCzY_z7rg3J",
        "outputId": "aef19799-bb67-4390-dee2-62570ebb43c4"
      },
      "execution_count": null,
      "outputs": [
        {
          "output_type": "stream",
          "name": "stdout",
          "text": [
            "Initial '1' labels count in y_train:  99\n",
            "Initial '0' labels count in y_train:  14620\n",
            "Shape of train_x after OverSampling:  (29240, 59)\n",
            "Shape of train_y after OverSampling:  (29240,)\n",
            "Percentage of '1' labels after OverSampling: 50.00%\n",
            "Percentage of '0' labels after OverSampling: 50.00%\n"
          ]
        },
        {
          "output_type": "stream",
          "name": "stderr",
          "text": [
            "<ipython-input-114-ab9c44197388>:20: FutureWarning: \n",
            "\n",
            "Passing `palette` without assigning `hue` is deprecated and will be removed in v0.14.0. Assign the `x` variable to `hue` and set `legend=False` for the same effect.\n",
            "\n",
            "  sns.countplot(x=y_train_s, palette='Set2')\n"
          ]
        },
        {
          "output_type": "execute_result",
          "data": {
            "text/plain": [
              "<Axes: ylabel='count'>"
            ]
          },
          "metadata": {},
          "execution_count": 114
        },
        {
          "output_type": "display_data",
          "data": {
            "text/plain": [
              "<Figure size 1400x800 with 1 Axes>"
            ],
            "image/png": "[encoded data removed]"
          },
          "metadata": {}
        }
      ]
    },
    {
      "cell_type": "code",
      "source": [
        "rf_smote = RandomForestClassifier()\n",
        "rf_smote.fit(x_train_s, y_train_s)\n",
        "y_pred_smote = rf_smote.predict(original_Xtest)\n",
        "conf_matrix_smote = confusion_matrix(original_ytest, y_pred_smote)\n",
        "\n",
        "sns.heatmap(conf_matrix_smote, annot=True, cmap=\"Blues\", fmt='d', cbar = True)\n",
        "plt.ylabel('Actual Label')\n",
        "plt.xlabel('Predicted Label')"
      ],
      "metadata": {
        "colab": {
          "base_uri": "https://localhost:8080/",
          "height": 453
        },
        "id": "5-FXUyPKrnnS",
        "outputId": "bb890c33-92ca-4178-a0d9-197e2afcf4c6"
      },
      "execution_count": null,
      "outputs": [
        {
          "output_type": "execute_result",
          "data": {
            "text/plain": [
              "Text(0.5, 58.7222222222222, 'Predicted Label')"
            ]
          },
          "metadata": {},
          "execution_count": 115
        },
        {
          "output_type": "display_data",
          "data": {
            "text/plain": [
              "<Figure size 1400x800 with 2 Axes>"
            ],
            "image/png": "[encoded data removed]"
          },
          "metadata": {}
        }
      ]
    },
    {
      "cell_type": "code",
      "source": [
        "print(classification_report(original_ytest, y_pred_smote))"
      ],
      "metadata": {
        "colab": {
          "base_uri": "https://localhost:8080/"
        },
        "id": "JisWdrXVr6uH",
        "outputId": "0ad4d728-2821-4743-99fb-73e3dc246710"
      },
      "execution_count": null,
      "outputs": [
        {
          "output_type": "stream",
          "name": "stdout",
          "text": [
            "              precision    recall  f1-score   support\n",
            "\n",
            "           0       1.00      1.00      1.00      3654\n",
            "           1       0.82      0.56      0.67        25\n",
            "\n",
            "    accuracy                           1.00      3679\n",
            "   macro avg       0.91      0.78      0.83      3679\n",
            "weighted avg       1.00      1.00      1.00      3679\n",
            "\n"
          ]
        }
      ]
    },
    {
      "cell_type": "code",
      "source": [
        "y_pred_prob_smote = rf_smote.predict_proba(original_Xtest)[:,1]\n",
        "precision, recall, thresholds = precision_recall_curve(original_ytest, y_pred_prob_smote)\n",
        "plt.plot(precision, recall)\n",
        "plt.xlabel('Recall')\n",
        "plt.ylabel('Precision')\n",
        "plt.title('Precision Recall Curve')"
      ],
      "metadata": {
        "colab": {
          "base_uri": "https://localhost:8080/",
          "height": 431
        },
        "id": "yCTOpv58r-M6",
        "outputId": "d486e6cb-2679-45a0-da44-48305dd1e034"
      },
      "execution_count": null,
      "outputs": [
        {
          "output_type": "execute_result",
          "data": {
            "text/plain": [
              "Text(0.5, 1.0, 'Precision Recall Curve')"
            ]
          },
          "metadata": {},
          "execution_count": 118
        },
        {
          "output_type": "display_data",
          "data": {
            "text/plain": [
              "<Figure size 1400x800 with 1 Axes>"
            ],
            "image/png": "[encoded data removed]"
          },
          "metadata": {}
        }
      ]
    },
    {
      "cell_type": "code",
      "source": [
        "from imblearn.under_sampling import RandomUnderSampler\n",
        "\n",
        "# Before UnderSampling\n",
        "print(\"Initial '1' labels count in y_train: \", sum(original_ytrain==1))\n",
        "print(\"Initial '0' labels count in y_train: \", sum(original_ytrain==0))\n",
        "\n",
        "# Applying RandomUnderSampler\n",
        "rus = RandomUnderSampler(random_state=2)\n",
        "x_train_us, y_train_us = rus.fit_resample(original_Xtrain, original_ytrain.ravel())\n",
        "\n",
        "\n",
        "# After UnderSampling\n",
        "print(\"Shape of train_x after UnderSampling: \", x_train_us.shape)\n",
        "print(\"Shape of train_y after UnderSampling: \", y_train_us.shape)\n",
        "\n",
        "print(\"Percentage of '1' labels after UnderSampling: {:.2f}%\".format(sum(y_train_us==1)/len(y_train_us)*100))\n",
        "print(\"Percentage of '0' labels after UnderSampling: {:.2f}%\".format(sum(y_train_us==0)/len(y_train_us)*100))\n",
        "\n",
        "\n",
        "# Visualizing the distribution with a different palette\n",
        "sns.countplot(x=y_train_us, palette='Set2')\n",
        "plt.show()"
      ],
      "metadata": {
        "colab": {
          "base_uri": "https://localhost:8080/",
          "height": 599
        },
        "id": "5zewFs-AsNW1",
        "outputId": "418e5cd6-23fe-419a-82ab-9eceec534472"
      },
      "execution_count": null,
      "outputs": [
        {
          "output_type": "stream",
          "name": "stdout",
          "text": [
            "Initial '1' labels count in y_train:  99\n",
            "Initial '0' labels count in y_train:  14620\n",
            "Shape of train_x after UnderSampling:  (198, 59)\n",
            "Shape of train_y after UnderSampling:  (198,)\n",
            "Percentage of '1' labels after UnderSampling: 50.00%\n",
            "Percentage of '0' labels after UnderSampling: 50.00%\n"
          ]
        },
        {
          "output_type": "stream",
          "name": "stderr",
          "text": [
            "<ipython-input-119-097e3af275d3>:21: FutureWarning: \n",
            "\n",
            "Passing `palette` without assigning `hue` is deprecated and will be removed in v0.14.0. Assign the `x` variable to `hue` and set `legend=False` for the same effect.\n",
            "\n",
            "  sns.countplot(x=y_train_us, palette='Set2')\n"
          ]
        },
        {
          "output_type": "display_data",
          "data": {
            "text/plain": [
              "<Figure size 1400x800 with 1 Axes>"
            ],
            "image/png": "[encoded data removed]"
          },
          "metadata": {}
        }
      ]
    },
    {
      "cell_type": "code",
      "source": [
        "# Training Logistic Regression on the undersampled data\n",
        "rf_under = RandomForestClassifier()\n",
        "rf_under.fit(x_train_us, y_train_us)\n",
        "\n",
        "# Predicting on the test set\n",
        "y_pred_under = rf_under.predict(original_Xtest)\n",
        "\n",
        "# Creating confusion matrix and classification report\n",
        "conf_matrix_under = confusion_matrix(original_ytest, y_pred_under)\n",
        "\n",
        "# Plotting the confusion matrix\n",
        "sns.heatmap(conf_matrix_under, annot=True, cmap=\"Blues\", fmt='d', cbar=True)\n",
        "plt.ylabel('Actual Label')\n",
        "plt.xlabel('Predicted Label')\n",
        "plt.show()\n",
        "\n",
        "# Printing the classification report\n",
        "print(classification_report(original_ytest, y_pred_under))"
      ],
      "metadata": {
        "colab": {
          "base_uri": "https://localhost:8080/",
          "height": 591
        },
        "id": "_spBHTTxsShi",
        "outputId": "f043a700-63bf-46f6-c0fa-16a151f57a7c"
      },
      "execution_count": null,
      "outputs": [
        {
          "output_type": "display_data",
          "data": {
            "text/plain": [
              "<Figure size 1400x800 with 2 Axes>"
            ],
            "image/png": "[encoded data removed]"
          },
          "metadata": {}
        },
        {
          "output_type": "stream",
          "name": "stdout",
          "text": [
            "              precision    recall  f1-score   support\n",
            "\n",
            "           0       1.00      0.91      0.95      3654\n",
            "           1       0.06      0.80      0.11        25\n",
            "\n",
            "    accuracy                           0.91      3679\n",
            "   macro avg       0.53      0.86      0.53      3679\n",
            "weighted avg       0.99      0.91      0.95      3679\n",
            "\n"
          ]
        }
      ]
    }
  ]
}